{
 "cells": [
  {
   "cell_type": "markdown",
   "id": "97549795",
   "metadata": {},
   "source": [
    "# Covid-19 in the Philippines\n",
    "\n",
    "Data as of January 5, 2022\n",
    "\n",
    "Source: DOH Data Drop\n",
    "\n",
    "Metadata: https://docs.google.com/spreadsheets/d/1rD77PMdxN6JMVeYmk7mvgDNtEHJt8Du6ozaLm_Qok0Q/edit#gid=1714687638"
   ]
  },
  {
   "cell_type": "markdown",
   "id": "ed3f085a",
   "metadata": {},
   "source": [
    "We'll first process the cases data contained in three CSV files."
   ]
  },
  {
   "cell_type": "code",
   "execution_count": 2,
   "id": "1e18258e",
   "metadata": {
    "scrolled": false
   },
   "outputs": [
    {
     "name": "stderr",
     "output_type": "stream",
     "text": [
      "/Users/prinzmagtulis/.pyenv/versions/3.10.0/lib/python3.10/site-packages/pandas/compat/__init__.py:124: UserWarning: Could not import the lzma module. Your installed Python is incomplete. Attempting to use lzma compression will result in a RuntimeError.\n",
      "  warnings.warn(msg)\n",
      "/Users/prinzmagtulis/.pyenv/versions/3.10.0/lib/python3.10/site-packages/pandas/core/reshape/concat.py:294: DtypeWarning: Columns (15,16) have mixed types.Specify dtype option on import or set low_memory=False.\n",
      "  op = _Concatenator(\n",
      "/Users/prinzmagtulis/.pyenv/versions/3.10.0/lib/python3.10/site-packages/pandas/core/reshape/concat.py:294: DtypeWarning: Columns (7) have mixed types.Specify dtype option on import or set low_memory=False.\n",
      "  op = _Concatenator(\n"
     ]
    },
    {
     "data": {
      "text/html": [
       "<div>\n",
       "<style scoped>\n",
       "    .dataframe tbody tr th:only-of-type {\n",
       "        vertical-align: middle;\n",
       "    }\n",
       "\n",
       "    .dataframe tbody tr th {\n",
       "        vertical-align: top;\n",
       "    }\n",
       "\n",
       "    .dataframe thead th {\n",
       "        text-align: right;\n",
       "    }\n",
       "</style>\n",
       "<table border=\"1\" class=\"dataframe\">\n",
       "  <thead>\n",
       "    <tr style=\"text-align: right;\">\n",
       "      <th></th>\n",
       "      <th>CaseCode</th>\n",
       "      <th>Age</th>\n",
       "      <th>AgeGroup</th>\n",
       "      <th>Sex</th>\n",
       "      <th>DateSpecimen</th>\n",
       "      <th>DateResultRelease</th>\n",
       "      <th>DateRepConf</th>\n",
       "      <th>DateDied</th>\n",
       "      <th>DateRecover</th>\n",
       "      <th>RemovalType</th>\n",
       "      <th>Admitted</th>\n",
       "      <th>RegionRes</th>\n",
       "      <th>ProvRes</th>\n",
       "      <th>CityMunRes</th>\n",
       "      <th>CityMuniPSGC</th>\n",
       "      <th>BarangayRes</th>\n",
       "      <th>BarangayPSGC</th>\n",
       "      <th>HealthStatus</th>\n",
       "      <th>Quarantined</th>\n",
       "      <th>DateOnset</th>\n",
       "      <th>Pregnanttab</th>\n",
       "      <th>ValidationStatus</th>\n",
       "    </tr>\n",
       "  </thead>\n",
       "  <tbody>\n",
       "    <tr>\n",
       "      <th>0</th>\n",
       "      <td>C404174</td>\n",
       "      <td>38.0</td>\n",
       "      <td>35 to 39</td>\n",
       "      <td>FEMALE</td>\n",
       "      <td>NaN</td>\n",
       "      <td>2020-01-30</td>\n",
       "      <td>2020-01-30</td>\n",
       "      <td>NaN</td>\n",
       "      <td>NaN</td>\n",
       "      <td>RECOVERED</td>\n",
       "      <td>NaN</td>\n",
       "      <td>Region VII: Central Visayas</td>\n",
       "      <td>NEGROS ORIENTAL</td>\n",
       "      <td>DUMAGUETE CITY (CAPITAL)</td>\n",
       "      <td>PH074610000</td>\n",
       "      <td>NaN</td>\n",
       "      <td>NaN</td>\n",
       "      <td>RECOVERED</td>\n",
       "      <td>NO</td>\n",
       "      <td>2020-01-21</td>\n",
       "      <td>NO</td>\n",
       "      <td>Health Status is \"Recovered\", but no Date Reco...</td>\n",
       "    </tr>\n",
       "    <tr>\n",
       "      <th>1</th>\n",
       "      <td>C462688</td>\n",
       "      <td>44.0</td>\n",
       "      <td>40 to 44</td>\n",
       "      <td>MALE</td>\n",
       "      <td>NaN</td>\n",
       "      <td>2020-01-30</td>\n",
       "      <td>2020-02-03</td>\n",
       "      <td>2020-02-01</td>\n",
       "      <td>NaN</td>\n",
       "      <td>DIED</td>\n",
       "      <td>NaN</td>\n",
       "      <td>Region VII: Central Visayas</td>\n",
       "      <td>NEGROS ORIENTAL</td>\n",
       "      <td>DUMAGUETE CITY (CAPITAL)</td>\n",
       "      <td>PH074610000</td>\n",
       "      <td>NaN</td>\n",
       "      <td>NaN</td>\n",
       "      <td>DIED</td>\n",
       "      <td>NO</td>\n",
       "      <td>2020-01-18</td>\n",
       "      <td>NaN</td>\n",
       "      <td>NaN</td>\n",
       "    </tr>\n",
       "    <tr>\n",
       "      <th>2</th>\n",
       "      <td>C387710</td>\n",
       "      <td>60.0</td>\n",
       "      <td>60 to 64</td>\n",
       "      <td>FEMALE</td>\n",
       "      <td>2020-01-23</td>\n",
       "      <td>2020-01-30</td>\n",
       "      <td>2020-02-05</td>\n",
       "      <td>NaN</td>\n",
       "      <td>2020-01-31</td>\n",
       "      <td>RECOVERED</td>\n",
       "      <td>YES</td>\n",
       "      <td>Region VII: Central Visayas</td>\n",
       "      <td>BOHOL</td>\n",
       "      <td>PANGLAO</td>\n",
       "      <td>PH071233000</td>\n",
       "      <td>NaN</td>\n",
       "      <td>NaN</td>\n",
       "      <td>RECOVERED</td>\n",
       "      <td>NO</td>\n",
       "      <td>2020-01-21</td>\n",
       "      <td>NO</td>\n",
       "      <td>Case has Admitting Facility but is not Admitte...</td>\n",
       "    </tr>\n",
       "    <tr>\n",
       "      <th>3</th>\n",
       "      <td>C377460</td>\n",
       "      <td>49.0</td>\n",
       "      <td>45 to 49</td>\n",
       "      <td>MALE</td>\n",
       "      <td>NaN</td>\n",
       "      <td>NaN</td>\n",
       "      <td>2020-03-06</td>\n",
       "      <td>NaN</td>\n",
       "      <td>NaN</td>\n",
       "      <td>RECOVERED</td>\n",
       "      <td>YES</td>\n",
       "      <td>Region IV-A: CALABARZON</td>\n",
       "      <td>BATANGAS</td>\n",
       "      <td>SANTO TOMAS</td>\n",
       "      <td>PH041028000</td>\n",
       "      <td>NaN</td>\n",
       "      <td>NaN</td>\n",
       "      <td>RECOVERED</td>\n",
       "      <td>NO</td>\n",
       "      <td>NaN</td>\n",
       "      <td>NaN</td>\n",
       "      <td>Health Status is \"Recovered\", but no Date Reco...</td>\n",
       "    </tr>\n",
       "    <tr>\n",
       "      <th>4</th>\n",
       "      <td>C498051</td>\n",
       "      <td>63.0</td>\n",
       "      <td>60 to 64</td>\n",
       "      <td>MALE</td>\n",
       "      <td>2020-03-05</td>\n",
       "      <td>NaN</td>\n",
       "      <td>2020-03-06</td>\n",
       "      <td>2020-03-11</td>\n",
       "      <td>NaN</td>\n",
       "      <td>DIED</td>\n",
       "      <td>NO</td>\n",
       "      <td>Region IV-A: CALABARZON</td>\n",
       "      <td>RIZAL</td>\n",
       "      <td>CAINTA</td>\n",
       "      <td>PH045805000</td>\n",
       "      <td>NaN</td>\n",
       "      <td>NaN</td>\n",
       "      <td>DIED</td>\n",
       "      <td>NO</td>\n",
       "      <td>NaN</td>\n",
       "      <td>NaN</td>\n",
       "      <td>Case has Lab Result, but Result Date is blank</td>\n",
       "    </tr>\n",
       "    <tr>\n",
       "      <th>...</th>\n",
       "      <td>...</td>\n",
       "      <td>...</td>\n",
       "      <td>...</td>\n",
       "      <td>...</td>\n",
       "      <td>...</td>\n",
       "      <td>...</td>\n",
       "      <td>...</td>\n",
       "      <td>...</td>\n",
       "      <td>...</td>\n",
       "      <td>...</td>\n",
       "      <td>...</td>\n",
       "      <td>...</td>\n",
       "      <td>...</td>\n",
       "      <td>...</td>\n",
       "      <td>...</td>\n",
       "      <td>...</td>\n",
       "      <td>...</td>\n",
       "      <td>...</td>\n",
       "      <td>...</td>\n",
       "      <td>...</td>\n",
       "      <td>...</td>\n",
       "      <td>...</td>\n",
       "    </tr>\n",
       "    <tr>\n",
       "      <th>2871740</th>\n",
       "      <td>C20400219</td>\n",
       "      <td>35.0</td>\n",
       "      <td>35 to 39</td>\n",
       "      <td>FEMALE</td>\n",
       "      <td>2022-01-03</td>\n",
       "      <td>2022-01-03</td>\n",
       "      <td>2022-01-05</td>\n",
       "      <td>NaN</td>\n",
       "      <td>NaN</td>\n",
       "      <td>NaN</td>\n",
       "      <td>NaN</td>\n",
       "      <td>NCR</td>\n",
       "      <td>NCR</td>\n",
       "      <td>QUEZON CITY</td>\n",
       "      <td>PH137404000</td>\n",
       "      <td>SOCORRO</td>\n",
       "      <td>PH137404115</td>\n",
       "      <td>MILD</td>\n",
       "      <td>NO</td>\n",
       "      <td>NaN</td>\n",
       "      <td>NO</td>\n",
       "      <td>NaN</td>\n",
       "    </tr>\n",
       "    <tr>\n",
       "      <th>2871741</th>\n",
       "      <td>C23732165</td>\n",
       "      <td>40.0</td>\n",
       "      <td>40 to 44</td>\n",
       "      <td>FEMALE</td>\n",
       "      <td>2022-01-03</td>\n",
       "      <td>2022-01-04</td>\n",
       "      <td>2022-01-05</td>\n",
       "      <td>NaN</td>\n",
       "      <td>NaN</td>\n",
       "      <td>NaN</td>\n",
       "      <td>NaN</td>\n",
       "      <td>NCR</td>\n",
       "      <td>NCR</td>\n",
       "      <td>CALOOCAN CITY</td>\n",
       "      <td>PH137501000</td>\n",
       "      <td>BARANGAY 34</td>\n",
       "      <td>PH137501034</td>\n",
       "      <td>MILD</td>\n",
       "      <td>NO</td>\n",
       "      <td>NaN</td>\n",
       "      <td>NO</td>\n",
       "      <td>NaN</td>\n",
       "    </tr>\n",
       "    <tr>\n",
       "      <th>2871742</th>\n",
       "      <td>C3164432</td>\n",
       "      <td>29.0</td>\n",
       "      <td>25 to 29</td>\n",
       "      <td>FEMALE</td>\n",
       "      <td>2022-01-03</td>\n",
       "      <td>2022-01-03</td>\n",
       "      <td>2022-01-05</td>\n",
       "      <td>NaN</td>\n",
       "      <td>NaN</td>\n",
       "      <td>NaN</td>\n",
       "      <td>NaN</td>\n",
       "      <td>NCR</td>\n",
       "      <td>NCR</td>\n",
       "      <td>CALOOCAN CITY</td>\n",
       "      <td>PH137501000</td>\n",
       "      <td>BARANGAY 169</td>\n",
       "      <td>PH137501169</td>\n",
       "      <td>MILD</td>\n",
       "      <td>NO</td>\n",
       "      <td>NaN</td>\n",
       "      <td>NO</td>\n",
       "      <td>NaN</td>\n",
       "    </tr>\n",
       "    <tr>\n",
       "      <th>2871743</th>\n",
       "      <td>C20077084</td>\n",
       "      <td>17.0</td>\n",
       "      <td>15 to 19</td>\n",
       "      <td>FEMALE</td>\n",
       "      <td>2022-01-02</td>\n",
       "      <td>2022-01-03</td>\n",
       "      <td>2022-01-05</td>\n",
       "      <td>NaN</td>\n",
       "      <td>NaN</td>\n",
       "      <td>NaN</td>\n",
       "      <td>NaN</td>\n",
       "      <td>NCR</td>\n",
       "      <td>NCR</td>\n",
       "      <td>TAGUIG CITY</td>\n",
       "      <td>PH137607000</td>\n",
       "      <td>USUSAN</td>\n",
       "      <td>PH137607016</td>\n",
       "      <td>MILD</td>\n",
       "      <td>NO</td>\n",
       "      <td>2022-01-02</td>\n",
       "      <td>NO</td>\n",
       "      <td>NaN</td>\n",
       "    </tr>\n",
       "    <tr>\n",
       "      <th>2871744</th>\n",
       "      <td>C78104200</td>\n",
       "      <td>32.0</td>\n",
       "      <td>30 to 34</td>\n",
       "      <td>FEMALE</td>\n",
       "      <td>2022-01-03</td>\n",
       "      <td>2022-01-04</td>\n",
       "      <td>2022-01-05</td>\n",
       "      <td>NaN</td>\n",
       "      <td>NaN</td>\n",
       "      <td>NaN</td>\n",
       "      <td>NaN</td>\n",
       "      <td>NCR</td>\n",
       "      <td>NCR</td>\n",
       "      <td>CITY OF PASIG</td>\n",
       "      <td>PH137403000</td>\n",
       "      <td>SANTOLAN</td>\n",
       "      <td>PH137403027</td>\n",
       "      <td>MILD</td>\n",
       "      <td>NO</td>\n",
       "      <td>NaN</td>\n",
       "      <td>NO</td>\n",
       "      <td>NaN</td>\n",
       "    </tr>\n",
       "  </tbody>\n",
       "</table>\n",
       "<p>2871745 rows × 22 columns</p>\n",
       "</div>"
      ],
      "text/plain": [
       "          CaseCode   Age  AgeGroup     Sex DateSpecimen DateResultRelease  \\\n",
       "0          C404174  38.0  35 to 39  FEMALE          NaN        2020-01-30   \n",
       "1          C462688  44.0  40 to 44    MALE          NaN        2020-01-30   \n",
       "2          C387710  60.0  60 to 64  FEMALE   2020-01-23        2020-01-30   \n",
       "3          C377460  49.0  45 to 49    MALE          NaN               NaN   \n",
       "4          C498051  63.0  60 to 64    MALE   2020-03-05               NaN   \n",
       "...            ...   ...       ...     ...          ...               ...   \n",
       "2871740  C20400219  35.0  35 to 39  FEMALE   2022-01-03        2022-01-03   \n",
       "2871741  C23732165  40.0  40 to 44  FEMALE   2022-01-03        2022-01-04   \n",
       "2871742   C3164432  29.0  25 to 29  FEMALE   2022-01-03        2022-01-03   \n",
       "2871743  C20077084  17.0  15 to 19  FEMALE   2022-01-02        2022-01-03   \n",
       "2871744  C78104200  32.0  30 to 34  FEMALE   2022-01-03        2022-01-04   \n",
       "\n",
       "        DateRepConf    DateDied DateRecover RemovalType Admitted  \\\n",
       "0        2020-01-30         NaN         NaN   RECOVERED      NaN   \n",
       "1        2020-02-03  2020-02-01         NaN        DIED      NaN   \n",
       "2        2020-02-05         NaN  2020-01-31   RECOVERED      YES   \n",
       "3        2020-03-06         NaN         NaN   RECOVERED      YES   \n",
       "4        2020-03-06  2020-03-11         NaN        DIED       NO   \n",
       "...             ...         ...         ...         ...      ...   \n",
       "2871740  2022-01-05         NaN         NaN         NaN      NaN   \n",
       "2871741  2022-01-05         NaN         NaN         NaN      NaN   \n",
       "2871742  2022-01-05         NaN         NaN         NaN      NaN   \n",
       "2871743  2022-01-05         NaN         NaN         NaN      NaN   \n",
       "2871744  2022-01-05         NaN         NaN         NaN      NaN   \n",
       "\n",
       "                           RegionRes          ProvRes  \\\n",
       "0        Region VII: Central Visayas  NEGROS ORIENTAL   \n",
       "1        Region VII: Central Visayas  NEGROS ORIENTAL   \n",
       "2        Region VII: Central Visayas            BOHOL   \n",
       "3            Region IV-A: CALABARZON         BATANGAS   \n",
       "4            Region IV-A: CALABARZON            RIZAL   \n",
       "...                              ...              ...   \n",
       "2871740                          NCR              NCR   \n",
       "2871741                          NCR              NCR   \n",
       "2871742                          NCR              NCR   \n",
       "2871743                          NCR              NCR   \n",
       "2871744                          NCR              NCR   \n",
       "\n",
       "                       CityMunRes CityMuniPSGC   BarangayRes BarangayPSGC  \\\n",
       "0        DUMAGUETE CITY (CAPITAL)  PH074610000           NaN          NaN   \n",
       "1        DUMAGUETE CITY (CAPITAL)  PH074610000           NaN          NaN   \n",
       "2                         PANGLAO  PH071233000           NaN          NaN   \n",
       "3                     SANTO TOMAS  PH041028000           NaN          NaN   \n",
       "4                          CAINTA  PH045805000           NaN          NaN   \n",
       "...                           ...          ...           ...          ...   \n",
       "2871740               QUEZON CITY  PH137404000       SOCORRO  PH137404115   \n",
       "2871741             CALOOCAN CITY  PH137501000   BARANGAY 34  PH137501034   \n",
       "2871742             CALOOCAN CITY  PH137501000  BARANGAY 169  PH137501169   \n",
       "2871743               TAGUIG CITY  PH137607000        USUSAN  PH137607016   \n",
       "2871744             CITY OF PASIG  PH137403000      SANTOLAN  PH137403027   \n",
       "\n",
       "        HealthStatus Quarantined   DateOnset Pregnanttab  \\\n",
       "0          RECOVERED          NO  2020-01-21          NO   \n",
       "1               DIED          NO  2020-01-18         NaN   \n",
       "2          RECOVERED          NO  2020-01-21          NO   \n",
       "3          RECOVERED          NO         NaN         NaN   \n",
       "4               DIED          NO         NaN         NaN   \n",
       "...              ...         ...         ...         ...   \n",
       "2871740         MILD          NO         NaN          NO   \n",
       "2871741         MILD          NO         NaN          NO   \n",
       "2871742         MILD          NO         NaN          NO   \n",
       "2871743         MILD          NO  2022-01-02          NO   \n",
       "2871744         MILD          NO         NaN          NO   \n",
       "\n",
       "                                          ValidationStatus  \n",
       "0        Health Status is \"Recovered\", but no Date Reco...  \n",
       "1                                                      NaN  \n",
       "2        Case has Admitting Facility but is not Admitte...  \n",
       "3        Health Status is \"Recovered\", but no Date Reco...  \n",
       "4            Case has Lab Result, but Result Date is blank  \n",
       "...                                                    ...  \n",
       "2871740                                                NaN  \n",
       "2871741                                                NaN  \n",
       "2871742                                                NaN  \n",
       "2871743                                                NaN  \n",
       "2871744                                                NaN  \n",
       "\n",
       "[2871745 rows x 22 columns]"
      ]
     },
     "execution_count": 2,
     "metadata": {},
     "output_type": "execute_result"
    }
   ],
   "source": [
    "import pandas as pd\n",
    "import numpy as np\n",
    "pd.set_option(\"display.max_columns\", None)\n",
    "pd.set_option(\"display.max_rows\", 1000)\n",
    "df = pd.concat(\n",
    "    map(pd.read_csv, ['DOH COVID Data Drop_ 20220105 - 04 Case Information_batch_0.csv', 'DOH COVID Data Drop_ 20220105 - 04 Case Information_batch_1.csv', 'DOH COVID Data Drop_ 20220105 - 04 Case Information_batch_2.csv']), ignore_index=True)\n",
    "df"
   ]
  },
  {
   "cell_type": "markdown",
   "id": "3a9ad383",
   "metadata": {},
   "source": [
    "We basically combined all three CSVs into one file. \n",
    "You can save this single file into a CSV if you want to. "
   ]
  },
  {
   "cell_type": "code",
   "execution_count": 3,
   "id": "73342b91",
   "metadata": {},
   "outputs": [],
   "source": [
    "df.DateRepConf = pd.to_datetime(df.DateRepConf, format=\"%Y-%m-%d\")\n",
    "df.DateDied = pd.to_datetime(df.DateDied, format=\"%Y-%m-%d\")\n",
    "df.DateRecover = pd.to_datetime(df.DateRecover, format=\"%Y-%m-%d\")\n",
    "df.DateOnset = pd.to_datetime(df.DateOnset, format=\"%Y-%m-%d\")\n",
    "df.DateResultRelease = pd.to_datetime(df.DateResultRelease, format=\"%Y-%m-%d\")\n",
    "df.DateSpecimen = pd.to_datetime(df.DateSpecimen, format=\"%Y-%m-%d\")"
   ]
  },
  {
   "cell_type": "code",
   "execution_count": 4,
   "id": "16744f57",
   "metadata": {
    "scrolled": true
   },
   "outputs": [
    {
     "data": {
      "text/plain": [
       "CaseCode                     object\n",
       "Age                         float64\n",
       "AgeGroup                     object\n",
       "Sex                          object\n",
       "DateSpecimen         datetime64[ns]\n",
       "DateResultRelease    datetime64[ns]\n",
       "DateRepConf          datetime64[ns]\n",
       "DateDied             datetime64[ns]\n",
       "DateRecover          datetime64[ns]\n",
       "RemovalType                  object\n",
       "Admitted                     object\n",
       "RegionRes                    object\n",
       "ProvRes                      object\n",
       "CityMunRes                   object\n",
       "CityMuniPSGC                 object\n",
       "BarangayRes                  object\n",
       "BarangayPSGC                 object\n",
       "HealthStatus                 object\n",
       "Quarantined                  object\n",
       "DateOnset            datetime64[ns]\n",
       "Pregnanttab                  object\n",
       "ValidationStatus             object\n",
       "dtype: object"
      ]
     },
     "execution_count": 4,
     "metadata": {},
     "output_type": "execute_result"
    }
   ],
   "source": [
    "df.dtypes\n",
    "#This checks whether we successfully converted the columns above into datetime."
   ]
  },
  {
   "cell_type": "markdown",
   "id": "4a1353ae",
   "metadata": {},
   "source": [
    "# Checking the data\n",
    "\n",
    "Look for potential duplicates through the **Case Code** column. **True** means there are duplicates."
   ]
  },
  {
   "cell_type": "code",
   "execution_count": 5,
   "id": "e458a34d",
   "metadata": {},
   "outputs": [
    {
     "data": {
      "text/plain": [
       "0          False\n",
       "1          False\n",
       "2          False\n",
       "3          False\n",
       "4          False\n",
       "           ...  \n",
       "2871740    False\n",
       "2871741    False\n",
       "2871742    False\n",
       "2871743    False\n",
       "2871744    False\n",
       "Length: 2871745, dtype: bool"
      ]
     },
     "execution_count": 5,
     "metadata": {},
     "output_type": "execute_result"
    }
   ],
   "source": [
    "df.duplicated(subset=['CaseCode'])"
   ]
  },
  {
   "cell_type": "markdown",
   "id": "47e38479",
   "metadata": {},
   "source": [
    "There are also issues with **NaNs** which means there was no data input. We tackle the NaNs as we go through different columns of the database."
   ]
  },
  {
   "cell_type": "markdown",
   "id": "ed4ffaa9",
   "metadata": {},
   "source": [
    "# Case data\n",
    "\n",
    "Note: Just remove **.tail()** to get all dates here. **.tail()** shows the last entries while the number inside paranthesis signify how many last entries are shown. Default shows last 10 entries. Alternatively: **.head()**"
   ]
  },
  {
   "cell_type": "markdown",
   "id": "19b298e5",
   "metadata": {},
   "source": [
    "## DateRepConf\n",
    "\n",
    "Pertains to data when cases are publicly reported **(this is what is closely followed and reported in the media).** Caveat is this can include case positives from previous days because of delays in test processing and reporting.\n",
    "\n",
    "For instance, cases may be reported on January 2, but based on testing data on December 31.\n",
    "\n",
    "Furthemore, data from previous days may be subject to change as DOH said it is constantly reviewing the reports' veracity and removing some potential duplicates."
   ]
  },
  {
   "cell_type": "code",
   "execution_count": 6,
   "id": "92d938d1",
   "metadata": {
    "scrolled": true
   },
   "outputs": [
    {
     "data": {
      "text/plain": [
       "DateRepConf\n",
       "2021-12-27      316\n",
       "2021-12-28      410\n",
       "2021-12-29      888\n",
       "2021-12-30     1619\n",
       "2021-12-31     2951\n",
       "2022-01-01     3615\n",
       "2022-01-02     4599\n",
       "2022-01-03     4082\n",
       "2022-01-04     5432\n",
       "2022-01-05    10775\n",
       "Freq: D, Name: CaseCode, dtype: int64"
      ]
     },
     "execution_count": 6,
     "metadata": {},
     "output_type": "execute_result"
    }
   ],
   "source": [
    "df.resample('D', on='DateRepConf').CaseCode.count().tail(10)"
   ]
  },
  {
   "cell_type": "markdown",
   "id": "7d00261a",
   "metadata": {},
   "source": [
    "# Two week rolling case average"
   ]
  },
  {
   "cell_type": "code",
   "execution_count": 7,
   "id": "144eebc7",
   "metadata": {},
   "outputs": [
    {
     "data": {
      "text/plain": [
       "DateRepConf\n",
       "2021-12-27     307.0\n",
       "2021-12-28     319.0\n",
       "2021-12-29     366.0\n",
       "2021-12-30     461.0\n",
       "2021-12-31     630.0\n",
       "2022-01-01     868.0\n",
       "2022-01-02    1182.0\n",
       "2022-01-03    1455.0\n",
       "2022-01-04    1831.0\n",
       "2022-01-05    2582.0\n",
       "Freq: D, Name: CaseCode, dtype: float64"
      ]
     },
     "execution_count": 7,
     "metadata": {},
     "output_type": "execute_result"
    }
   ],
   "source": [
    "df.resample('D', on='DateRepConf').CaseCode.count().rolling(14).mean().round().tail(10)"
   ]
  },
  {
   "cell_type": "code",
   "execution_count": 51,
   "id": "daac766f",
   "metadata": {},
   "outputs": [
    {
     "data": {
      "text/plain": [
       "Text(0, 0.5, 'Cases')"
      ]
     },
     "execution_count": 51,
     "metadata": {},
     "output_type": "execute_result"
    },
    {
     "data": {
      "image/png": "[encoded data removed]",
      "text/plain": [
       "<Figure size 432x288 with 1 Axes>"
      ]
     },
     "metadata": {
      "needs_background": "light"
     },
     "output_type": "display_data"
    }
   ],
   "source": [
    "ax = df.resample('D', on='DateRepConf').CaseCode.count().rolling(14).mean().plot(title='Two week rolling average (Covid-19 cases)')\n",
    "ax.set_xlabel(\"Date\")\n",
    "ax.set_ylabel(\"Cases\")"
   ]
  },
  {
   "cell_type": "markdown",
   "id": "68011b71",
   "metadata": {},
   "source": [
    "## DateOnset\n",
    "\n",
    "Pertains to cases when date of illness or when symptoms manifest. Sometimes, people are not tested until cases manifest and processing of cases take time. DateOnset records cases based on when the illness first manifested, not when test results were released.\n",
    "\n",
    "DOH said when DateOnset cannot be confirmed, the agency uses DateSpecimen (date of specimen collection for testing, see below) as proxy."
   ]
  },
  {
   "cell_type": "code",
   "execution_count": 8,
   "id": "3c2f89f4",
   "metadata": {},
   "outputs": [
    {
     "data": {
      "text/plain": [
       "DateOnset\n",
       "2021-12-25    164\n",
       "2021-12-26    215\n",
       "2021-12-27    384\n",
       "2021-12-28    430\n",
       "2021-12-29    646\n",
       "2021-12-30    636\n",
       "2021-12-31    569\n",
       "2022-01-01    575\n",
       "2022-01-02    423\n",
       "2022-01-03    145\n",
       "Name: CaseCode, dtype: int64"
      ]
     },
     "execution_count": 8,
     "metadata": {},
     "output_type": "execute_result"
    }
   ],
   "source": [
    "df.resample('D', on='DateOnset').CaseCode.count().tail(10)"
   ]
  },
  {
   "cell_type": "markdown",
   "id": "3f8104b7",
   "metadata": {},
   "source": [
    "## DateSpecimen\n",
    "\n",
    "Pertains to when specimen was collected from suspected case for Covid-19 testing. Data show those who tested positive after testing, but date used to report case is based on when the specimen is collected, instead of when results came out positive.\n",
    "\n",
    "DOH said when DateOnset cannot be confirmed, the agency uses DateSpecimen (date of specimen collection for testing) as proxy."
   ]
  },
  {
   "cell_type": "code",
   "execution_count": 9,
   "id": "799c7511",
   "metadata": {},
   "outputs": [
    {
     "data": {
      "text/plain": [
       "DateSpecimen\n",
       "2021-12-26     711\n",
       "2021-12-27    1532\n",
       "2021-12-28    2515\n",
       "2021-12-29    3620\n",
       "2021-12-30    4376\n",
       "2021-12-31    4845\n",
       "2022-01-01    4321\n",
       "2022-01-02    7289\n",
       "2022-01-03    4320\n",
       "2022-01-04       8\n",
       "Name: CaseCode, dtype: int64"
      ]
     },
     "execution_count": 9,
     "metadata": {},
     "output_type": "execute_result"
    }
   ],
   "source": [
    "df.resample('D', on='DateSpecimen').CaseCode.count().tail(10)"
   ]
  },
  {
   "cell_type": "markdown",
   "id": "22f368d0",
   "metadata": {},
   "source": [
    "## DateRecover\n",
    "\n",
    "Pertains to date when cases recovered from Covid-19. Not used in reporting \"recoveries\" data every day. "
   ]
  },
  {
   "cell_type": "code",
   "execution_count": 12,
   "id": "220019bb",
   "metadata": {},
   "outputs": [
    {
     "data": {
      "text/plain": [
       "DateRecover\n",
       "2021-12-23    14\n",
       "2021-12-24    23\n",
       "2021-12-25    25\n",
       "2021-12-26     9\n",
       "2021-12-27    19\n",
       "2021-12-28    30\n",
       "2021-12-29    27\n",
       "2021-12-30    30\n",
       "2021-12-31     3\n",
       "2022-01-01     1\n",
       "dtype: int64"
      ]
     },
     "execution_count": 12,
     "metadata": {},
     "output_type": "execute_result"
    }
   ],
   "source": [
    "df[df.RemovalType==\"RECOVERED\"].resample('D', on='DateRecover').size().tail(10)"
   ]
  },
  {
   "cell_type": "markdown",
   "id": "9b8f0eea",
   "metadata": {},
   "source": [
    "## DateDied\n",
    "\n",
    "Pertains to date when cases died from Covid-19. Not used in reporting \"deaths\" data every day. "
   ]
  },
  {
   "cell_type": "code",
   "execution_count": 13,
   "id": "2db3f8af",
   "metadata": {},
   "outputs": [
    {
     "data": {
      "text/plain": [
       "DateDied\n",
       "2021-12-23     5\n",
       "2021-12-24     2\n",
       "2021-12-25     2\n",
       "2021-12-26     1\n",
       "2021-12-27     3\n",
       "2021-12-28     6\n",
       "2021-12-29    10\n",
       "2021-12-30     3\n",
       "2021-12-31     8\n",
       "2022-01-01     2\n",
       "dtype: int64"
      ]
     },
     "execution_count": 13,
     "metadata": {},
     "output_type": "execute_result"
    }
   ],
   "source": [
    "df[df.RemovalType==\"DIED\"].resample('D', on='DateDied').size().tail(10)"
   ]
  },
  {
   "cell_type": "markdown",
   "id": "ca3a1060",
   "metadata": {},
   "source": [
    "Note: Clearly when used to resample, DateRecovered and DateDied columns underestimate both figures as reported. This can be due to a number of reasons, including some deaths and recoveries bearing no date."
   ]
  },
  {
   "cell_type": "markdown",
   "id": "01bad200",
   "metadata": {},
   "source": [
    "# Which regions have the highest number of Covid-19 cases so far?"
   ]
  },
  {
   "cell_type": "code",
   "execution_count": 13,
   "id": "c029258a",
   "metadata": {},
   "outputs": [
    {
     "data": {
      "text/plain": [
       "NCR                               30.823802\n",
       "Region IV-A: CALABARZON           17.506220\n",
       "Region III: Central Luzon          9.892940\n",
       "Region VII: Central Visayas        5.387247\n",
       "Region VI: Western Visayas         5.320284\n",
       "Region II: Cagayan Valley          4.817280\n",
       "Region XI: Davao Region            3.722998\n",
       "Region I: Ilocos Region            3.677381\n",
       "CAR                                3.241757\n",
       "Region X: Northern Mindanao        2.990238\n",
       "Region XII: SOCCSKSARGEN           2.100848\n",
       "Region IX: Zamboanga Peninsula     1.876420\n",
       "Region VIII: Eastern Visayas       1.862387\n",
       "Region V: Bicol Region             1.811512\n",
       "CARAGA                             1.776690\n",
       "Region IV-B: MIMAROPA              1.317352\n",
       "ROF                                1.066808\n",
       "BARMM                              0.692018\n",
       "NaN                                0.115818\n",
       "Name: RegionRes, dtype: float64"
      ]
     },
     "execution_count": 13,
     "metadata": {},
     "output_type": "execute_result"
    }
   ],
   "source": [
    "df.RegionRes.value_counts(normalize=True, dropna=False) * 100\n",
    "#ROF stands for returning overseas Filipinos\n",
    "#0.11% have no indicated regional location."
   ]
  },
  {
   "cell_type": "markdown",
   "id": "9566cb87",
   "metadata": {},
   "source": [
    "Interpretation: Nearly half-- or about 48%-- of Covid-19 cases were detected in Metro Manila and Calabarzon."
   ]
  },
  {
   "cell_type": "markdown",
   "id": "88bb025e",
   "metadata": {},
   "source": [
    "# Which provinces have the highest number of Covid-19 cases so far?"
   ]
  },
  {
   "cell_type": "code",
   "execution_count": 14,
   "id": "6e26edea",
   "metadata": {
    "scrolled": true
   },
   "outputs": [
    {
     "data": {
      "text/plain": [
       "NCR                                 30.588614\n",
       "CAVITE                               5.731219\n",
       "LAGUNA                               4.364733\n",
       "CEBU                                 3.791110\n",
       "RIZAL                                3.704472\n",
       "BULACAN                              3.697508\n",
       "BATANGAS                             2.592674\n",
       "PAMPANGA                             2.415709\n",
       "DAVAO DEL SUR                        2.328306\n",
       "NEGROS OCCIDENTAL                    2.091307\n",
       "ISABELA                              2.081069\n",
       "ILOILO                               2.071423\n",
       "CAGAYAN                              1.841250\n",
       "BENGUET                              1.816944\n",
       "PANGASINAN                           1.570961\n",
       "NaN                                  1.474852\n",
       "MISAMIS ORIENTAL                     1.305896\n",
       "ZAMBOANGA DEL SUR                    1.275844\n",
       "SOUTH COTABATO                       1.185516\n",
       "NUEVA ECIJA                          1.124926\n",
       "BATAAN                               1.110126\n",
       "QUEZON                               1.094352\n",
       "LEYTE                                1.017848\n",
       "BUKIDNON                             0.897399\n",
       "TARLAC                               0.798992\n",
       "LA UNION                             0.770229\n",
       "BOHOL                                0.759260\n",
       "CAMARINES SUR                        0.753793\n",
       "NEGROS ORIENTAL                      0.733526\n",
       "DAVAO DEL NORTE                      0.702848\n",
       "ILOCOS NORTE                         0.681398\n",
       "ILOCOS SUR                           0.654167\n",
       "AGUSAN DEL NORTE                     0.643128\n",
       "NUEVA VIZCAYA                        0.630627\n",
       "ZAMBALES                             0.612485\n",
       "AKLAN                                0.456343\n",
       "AGUSAN DEL SUR                       0.449448\n",
       "COTABATO (NORTH COTABATO)            0.414347\n",
       "SURIGAO DEL SUR                      0.402194\n",
       "ZAMBOANGA DEL NORTE                  0.385584\n",
       "PALAWAN                              0.385341\n",
       "ALBAY                                0.381510\n",
       "ORIENTAL MINDORO                     0.363403\n",
       "LANAO DEL NORTE                      0.360652\n",
       "IFUGAO                               0.350588\n",
       "CAPIZ                                0.350449\n",
       "MISAMIS OCCIDENTAL                   0.349753\n",
       "KALINGA                              0.340873\n",
       "APAYAO                               0.283869\n",
       "DAVAO DE ORO                         0.282650\n",
       "MOUNTAIN PROVINCE                    0.279691\n",
       "SAMAR (WESTERN SAMAR)                0.270567\n",
       "DAVAO ORIENTAL                       0.270184\n",
       "SULTAN KUDARAT                       0.268861\n",
       "QUIRINO                              0.252320\n",
       "OCCIDENTAL MINDORO                   0.246192\n",
       "SORSOGON                             0.245809\n",
       "ANTIQUE                              0.233517\n",
       "SARANGANI                            0.231218\n",
       "SURIGAO DEL NORTE                    0.220598\n",
       "LANAO DEL SUR                        0.212728\n",
       "SOUTHERN LEYTE                       0.205171\n",
       "MAGUINDANAO                          0.185218\n",
       "COTABATO CITY (NOT A PROVINCE)       0.182467\n",
       "MASBATE                              0.181388\n",
       "ROMBLON                              0.179856\n",
       "ABRA                                 0.169305\n",
       "ZAMBOANGA SIBUGAY                    0.160216\n",
       "NORTHERN SAMAR                       0.148063\n",
       "EASTERN SAMAR                        0.147019\n",
       "MARINDUQUE                           0.140646\n",
       "DAVAO OCCIDENTAL                     0.137756\n",
       "CAMARINES NORTE                      0.129085\n",
       "AURORA                               0.127518\n",
       "GUIMARAS                             0.116445\n",
       "CATANDUANES                          0.104536\n",
       "SIQUIJOR                             0.096422\n",
       "CAMIGUIN                             0.075181\n",
       "BILIRAN                              0.072987\n",
       "DINAGAT ISLANDS                      0.060451\n",
       "CITY OF ISABELA (NOT A PROVINCE)     0.054462\n",
       "BASILAN                              0.050074\n",
       "SULU                                 0.041612\n",
       "TAWI-TAWI                            0.019187\n",
       "BATANES                              0.011735\n",
       "Name: ProvRes, dtype: float64"
      ]
     },
     "execution_count": 14,
     "metadata": {},
     "output_type": "execute_result"
    }
   ],
   "source": [
    "df.ProvRes.value_counts(dropna=False, normalize=True) * 100\n",
    "#Over 42,000 (1.5%) have no information into provincial location."
   ]
  },
  {
   "cell_type": "markdown",
   "id": "b8748724",
   "metadata": {},
   "source": [
    "# Which municipalities?"
   ]
  },
  {
   "cell_type": "code",
   "execution_count": 77,
   "id": "d2f469a0",
   "metadata": {},
   "outputs": [
    {
     "data": {
      "text/plain": [
       "QUEZON CITY                   6.343878\n",
       "CITY OF MANILA                3.813500\n",
       "CALOOCAN CITY                 2.278336\n",
       "TAGUIG CITY                   2.240345\n",
       "CITY OF PASIG                 2.161717\n",
       "CITY OF MAKATI                2.093675\n",
       "NaN                           1.946900\n",
       "DAVAO CITY                    1.914376\n",
       "CITY OF PARAÑAQUE             1.763597\n",
       "CEBU CITY (CAPITAL)           1.489234\n",
       "CITY OF VALENZUELA            1.392080\n",
       "PASAY CITY                    1.381007\n",
       "CITY OF LAS PIÑAS             1.272745\n",
       "CITY OF MANDALUYONG           1.197425\n",
       "BAGUIO CITY                   1.056431\n",
       "CITY OF MUNTINLUPA            1.054864\n",
       "BACOOR CITY                   1.050337\n",
       "CITY OF ANTIPOLO (CAPITAL)    1.030245\n",
       "CITY OF MARIKINA              0.989433\n",
       "CITY OF DASMARIÑAS            0.874729\n",
       "BACOLOD CITY (CAPITAL)        0.850702\n",
       "ZAMBOANGA CITY                0.838898\n",
       "IMUS CITY                     0.838723\n",
       "CITY OF MALABON               0.833256\n",
       "ILOILO CITY (CAPITAL)         0.795440\n",
       "Name: CityMunRes, dtype: float64"
      ]
     },
     "execution_count": 77,
     "metadata": {},
     "output_type": "execute_result"
    }
   ],
   "source": [
    "df.CityMunRes.value_counts(dropna=False, normalize=True).head(25) * 100\n",
    "#Over 55,000 (nearly 2%) people infected have no information on their municipal location."
   ]
  },
  {
   "cell_type": "markdown",
   "id": "4d270e2e",
   "metadata": {},
   "source": [
    "Interpretation: Six cities from Metro Manila top the list of number of people infected with Covid-19. Davao City in Mindanao follow them."
   ]
  },
  {
   "cell_type": "markdown",
   "id": "f26b95e0",
   "metadata": {},
   "source": [
    "# How is a location's infection tally through time?\n",
    "\n",
    "Applicable for provinces, municipalities, regions."
   ]
  },
  {
   "cell_type": "code",
   "execution_count": 14,
   "id": "86daebbf",
   "metadata": {},
   "outputs": [
    {
     "data": {
      "text/plain": [
       "DateRepConf\n",
       "2021-12-27     120\n",
       "2021-12-28     169\n",
       "2021-12-29     566\n",
       "2021-12-30    1110\n",
       "2021-12-31    1984\n",
       "2022-01-01    2540\n",
       "2022-01-02    3345\n",
       "2022-01-03    2861\n",
       "2022-01-04    3847\n",
       "2022-01-05    7479\n",
       "Freq: D, Name: CaseCode, dtype: int64"
      ]
     },
     "execution_count": 14,
     "metadata": {},
     "output_type": "execute_result"
    }
   ],
   "source": [
    "#Example for region\n",
    "df[df.RegionRes==\"NCR\"].resample('D', on='DateRepConf').CaseCode.count().tail(10)"
   ]
  },
  {
   "cell_type": "code",
   "execution_count": 15,
   "id": "c5d00c32",
   "metadata": {},
   "outputs": [
    {
     "data": {
      "text/plain": [
       "DateRepConf\n",
       "2021-12-27      5\n",
       "2021-12-28      4\n",
       "2021-12-29     14\n",
       "2021-12-30     41\n",
       "2021-12-31     75\n",
       "2022-01-01    104\n",
       "2022-01-02    115\n",
       "2022-01-03    126\n",
       "2022-01-04    276\n",
       "2022-01-05    439\n",
       "Freq: D, Name: CaseCode, dtype: int64"
      ]
     },
     "execution_count": 15,
     "metadata": {},
     "output_type": "execute_result"
    }
   ],
   "source": [
    "#Example for municipalities\n",
    "df[df.CityMunRes==\"CITY OF PASIG\"].resample('D', on='DateRepConf').CaseCode.count().tail(10)"
   ]
  },
  {
   "cell_type": "code",
   "execution_count": 18,
   "id": "3e823ba6",
   "metadata": {},
   "outputs": [
    {
     "data": {
      "text/plain": [
       "<AxesSubplot:title={'center':'Pasig City cases'}, xlabel='DateRepConf'>"
      ]
     },
     "execution_count": 18,
     "metadata": {},
     "output_type": "execute_result"
    },
    {
     "data": {
      "image/png": "[encoded data removed]",
      "text/plain": [
       "<Figure size 432x288 with 1 Axes>"
      ]
     },
     "metadata": {
      "needs_background": "light"
     },
     "output_type": "display_data"
    }
   ],
   "source": [
    "df[df.CityMunRes==\"CITY OF PASIG\"].resample('D', on='DateRepConf').CaseCode.count().plot(title=\"Pasig City cases\")"
   ]
  },
  {
   "cell_type": "markdown",
   "id": "cf869f02",
   "metadata": {},
   "source": [
    "# How young/old are the infected?"
   ]
  },
  {
   "cell_type": "code",
   "execution_count": 49,
   "id": "0850b278",
   "metadata": {},
   "outputs": [
    {
     "data": {
      "text/plain": [
       "25 to 29    13.749271\n",
       "30 to 34    12.299107\n",
       "20 to 24    10.140350\n",
       "35 to 39     9.554330\n",
       "40 to 44     8.255329\n",
       "45 to 49     6.898767\n",
       "50 to 54     6.492185\n",
       "55 to 59     5.851738\n",
       "60 to 64     4.674336\n",
       "15 to 19     4.622312\n",
       "65 to 69     3.553449\n",
       "10 to 14     3.196697\n",
       "70 to 74     2.590794\n",
       "5 to 9       2.369430\n",
       "0 to 4       2.269143\n",
       "80+          1.844941\n",
       "75 to 79     1.546830\n",
       "NaN          0.090990\n",
       "Name: AgeGroup, dtype: float64"
      ]
     },
     "execution_count": 49,
     "metadata": {},
     "output_type": "execute_result"
    }
   ],
   "source": [
    "df.AgeGroup.value_counts(normalize=True, dropna=False) * 100\n",
    "#0.1% of people infected did not indicate age."
   ]
  },
  {
   "cell_type": "code",
   "execution_count": 50,
   "id": "08dca4a6",
   "metadata": {
    "scrolled": true
   },
   "outputs": [
    {
     "data": {
      "text/plain": [
       "Text(0, 0.5, 'Cases')"
      ]
     },
     "execution_count": 50,
     "metadata": {},
     "output_type": "execute_result"
    },
    {
     "data": {
      "image/png": "[encoded data removed]",
      "text/plain": [
       "<Figure size 432x288 with 1 Axes>"
      ]
     },
     "metadata": {
      "needs_background": "light"
     },
     "output_type": "display_data"
    }
   ],
   "source": [
    "ax= df.Age.hist(legend=True)\n",
    "ax.set_xlabel(\"Age\")\n",
    "ax.set_ylabel(\"Cases\")"
   ]
  },
  {
   "cell_type": "markdown",
   "id": "1fa03725",
   "metadata": {},
   "source": [
    "# How many males and females? How many are admitted to hospital?\n",
    "\n",
    "**normalize=True** will get you the percentage share."
   ]
  },
  {
   "cell_type": "code",
   "execution_count": 21,
   "id": "4673a606",
   "metadata": {},
   "outputs": [
    {
     "data": {
      "text/plain": [
       "FEMALE    50.096997\n",
       "MALE      49.903003\n",
       "Name: Sex, dtype: float64"
      ]
     },
     "execution_count": 21,
     "metadata": {},
     "output_type": "execute_result"
    }
   ],
   "source": [
    "df.Sex.value_counts(dropna=False, normalize=True) * 100\n",
    "#Nearly equal number of females and males infected with Covid-19"
   ]
  },
  {
   "cell_type": "code",
   "execution_count": 22,
   "id": "99425538",
   "metadata": {},
   "outputs": [
    {
     "data": {
      "text/plain": [
       "NaN    1825906\n",
       "NO      935405\n",
       "YES     110434\n",
       "Name: Admitted, dtype: int64"
      ]
     },
     "execution_count": 22,
     "metadata": {},
     "output_type": "execute_result"
    }
   ],
   "source": [
    "df.Admitted.value_counts(dropna=False)\n",
    "#NaN means no answer"
   ]
  },
  {
   "cell_type": "markdown",
   "id": "727dc51a",
   "metadata": {},
   "source": [
    "# Testing\n",
    "\n",
    "We now go to testing data, which is contained in a separate CSV file from the DOH Data Drop. We read through the file first.\n",
    "\n",
    "Notice again how there are **NaNs** in some rows. Some of them you can ignore because of the type of data (i.e. **daily_output_unique_individuals** where NaN essentially means there were no test conducted that day.\n",
    "\n",
    "You can check whether they have a significant impact on the broader picture by running **isna** in certain columns or putting **dropna=False** in your **value_counts**.\n",
    "\n",
    "Try this:\n",
    "df[df.daily_output_unique_individuals.isna()]"
   ]
  },
  {
   "cell_type": "code",
   "execution_count": 18,
   "id": "cabcf429",
   "metadata": {},
   "outputs": [
    {
     "data": {
      "text/html": [
       "<div>\n",
       "<style scoped>\n",
       "    .dataframe tbody tr th:only-of-type {\n",
       "        vertical-align: middle;\n",
       "    }\n",
       "\n",
       "    .dataframe tbody tr th {\n",
       "        vertical-align: top;\n",
       "    }\n",
       "\n",
       "    .dataframe thead th {\n",
       "        text-align: right;\n",
       "    }\n",
       "</style>\n",
       "<table border=\"1\" class=\"dataframe\">\n",
       "  <thead>\n",
       "    <tr style=\"text-align: right;\">\n",
       "      <th></th>\n",
       "      <th>facility_name</th>\n",
       "      <th>report_date</th>\n",
       "      <th>avg_turnaround_time</th>\n",
       "      <th>daily_output_samples_tested</th>\n",
       "      <th>daily_output_unique_individuals</th>\n",
       "      <th>daily_output_positive_individuals</th>\n",
       "      <th>daily_output_negative_individuals</th>\n",
       "      <th>daily_output_equivocal</th>\n",
       "      <th>daily_output_invalid</th>\n",
       "      <th>remaining_available_tests</th>\n",
       "      <th>backlogs</th>\n",
       "      <th>cumulative_samples_tested</th>\n",
       "      <th>cumulative_unique_individuals</th>\n",
       "      <th>cumulative_positive_individuals</th>\n",
       "      <th>cumulative_negative_individuals</th>\n",
       "      <th>pct_positive_cumulative</th>\n",
       "      <th>pct_negative_cumulative</th>\n",
       "      <th>validation_status</th>\n",
       "    </tr>\n",
       "  </thead>\n",
       "  <tbody>\n",
       "    <tr>\n",
       "      <th>0</th>\n",
       "      <td>A Star Laboratories</td>\n",
       "      <td>2020-12-08</td>\n",
       "      <td>24.0</td>\n",
       "      <td>15.0</td>\n",
       "      <td>15.0</td>\n",
       "      <td>1.0</td>\n",
       "      <td>14.0</td>\n",
       "      <td>0.0</td>\n",
       "      <td>0.0</td>\n",
       "      <td>8.0</td>\n",
       "      <td>0.0</td>\n",
       "      <td>15</td>\n",
       "      <td>15</td>\n",
       "      <td>1</td>\n",
       "      <td>14</td>\n",
       "      <td>0.07</td>\n",
       "      <td>0.93</td>\n",
       "      <td>NaN</td>\n",
       "    </tr>\n",
       "    <tr>\n",
       "      <th>1</th>\n",
       "      <td>A Star Laboratories</td>\n",
       "      <td>2020-12-09</td>\n",
       "      <td>NaN</td>\n",
       "      <td>NaN</td>\n",
       "      <td>NaN</td>\n",
       "      <td>NaN</td>\n",
       "      <td>NaN</td>\n",
       "      <td>NaN</td>\n",
       "      <td>NaN</td>\n",
       "      <td>NaN</td>\n",
       "      <td>NaN</td>\n",
       "      <td>15</td>\n",
       "      <td>15</td>\n",
       "      <td>1</td>\n",
       "      <td>14</td>\n",
       "      <td>0.07</td>\n",
       "      <td>0.93</td>\n",
       "      <td>NaN</td>\n",
       "    </tr>\n",
       "    <tr>\n",
       "      <th>2</th>\n",
       "      <td>A Star Laboratories</td>\n",
       "      <td>2020-12-10</td>\n",
       "      <td>NaN</td>\n",
       "      <td>NaN</td>\n",
       "      <td>NaN</td>\n",
       "      <td>NaN</td>\n",
       "      <td>NaN</td>\n",
       "      <td>NaN</td>\n",
       "      <td>NaN</td>\n",
       "      <td>NaN</td>\n",
       "      <td>NaN</td>\n",
       "      <td>15</td>\n",
       "      <td>15</td>\n",
       "      <td>1</td>\n",
       "      <td>14</td>\n",
       "      <td>0.07</td>\n",
       "      <td>0.93</td>\n",
       "      <td>NaN</td>\n",
       "    </tr>\n",
       "    <tr>\n",
       "      <th>3</th>\n",
       "      <td>A Star Laboratories</td>\n",
       "      <td>2020-12-11</td>\n",
       "      <td>NaN</td>\n",
       "      <td>NaN</td>\n",
       "      <td>NaN</td>\n",
       "      <td>NaN</td>\n",
       "      <td>NaN</td>\n",
       "      <td>NaN</td>\n",
       "      <td>NaN</td>\n",
       "      <td>NaN</td>\n",
       "      <td>NaN</td>\n",
       "      <td>15</td>\n",
       "      <td>15</td>\n",
       "      <td>1</td>\n",
       "      <td>14</td>\n",
       "      <td>0.07</td>\n",
       "      <td>0.93</td>\n",
       "      <td>NaN</td>\n",
       "    </tr>\n",
       "    <tr>\n",
       "      <th>4</th>\n",
       "      <td>A Star Laboratories</td>\n",
       "      <td>2020-12-12</td>\n",
       "      <td>NaN</td>\n",
       "      <td>NaN</td>\n",
       "      <td>NaN</td>\n",
       "      <td>NaN</td>\n",
       "      <td>NaN</td>\n",
       "      <td>NaN</td>\n",
       "      <td>NaN</td>\n",
       "      <td>NaN</td>\n",
       "      <td>NaN</td>\n",
       "      <td>15</td>\n",
       "      <td>15</td>\n",
       "      <td>1</td>\n",
       "      <td>14</td>\n",
       "      <td>0.07</td>\n",
       "      <td>0.93</td>\n",
       "      <td>NaN</td>\n",
       "    </tr>\n",
       "    <tr>\n",
       "      <th>...</th>\n",
       "      <td>...</td>\n",
       "      <td>...</td>\n",
       "      <td>...</td>\n",
       "      <td>...</td>\n",
       "      <td>...</td>\n",
       "      <td>...</td>\n",
       "      <td>...</td>\n",
       "      <td>...</td>\n",
       "      <td>...</td>\n",
       "      <td>...</td>\n",
       "      <td>...</td>\n",
       "      <td>...</td>\n",
       "      <td>...</td>\n",
       "      <td>...</td>\n",
       "      <td>...</td>\n",
       "      <td>...</td>\n",
       "      <td>...</td>\n",
       "      <td>...</td>\n",
       "    </tr>\n",
       "    <tr>\n",
       "      <th>122580</th>\n",
       "      <td>Zamboanga del Sur Medical Center PCR Laboratory</td>\n",
       "      <td>2021-12-31</td>\n",
       "      <td>48.0</td>\n",
       "      <td>6.0</td>\n",
       "      <td>6.0</td>\n",
       "      <td>0.0</td>\n",
       "      <td>6.0</td>\n",
       "      <td>0.0</td>\n",
       "      <td>0.0</td>\n",
       "      <td>7669.0</td>\n",
       "      <td>0.0</td>\n",
       "      <td>34067</td>\n",
       "      <td>33722</td>\n",
       "      <td>8830</td>\n",
       "      <td>24892</td>\n",
       "      <td>0.26</td>\n",
       "      <td>0.74</td>\n",
       "      <td>NaN</td>\n",
       "    </tr>\n",
       "    <tr>\n",
       "      <th>122581</th>\n",
       "      <td>Zamboanga del Sur Medical Center PCR Laboratory</td>\n",
       "      <td>2022-01-01</td>\n",
       "      <td>48.0</td>\n",
       "      <td>54.0</td>\n",
       "      <td>54.0</td>\n",
       "      <td>2.0</td>\n",
       "      <td>52.0</td>\n",
       "      <td>0.0</td>\n",
       "      <td>0.0</td>\n",
       "      <td>7595.0</td>\n",
       "      <td>0.0</td>\n",
       "      <td>34121</td>\n",
       "      <td>33776</td>\n",
       "      <td>8832</td>\n",
       "      <td>24944</td>\n",
       "      <td>0.26</td>\n",
       "      <td>0.74</td>\n",
       "      <td>NaN</td>\n",
       "    </tr>\n",
       "    <tr>\n",
       "      <th>122582</th>\n",
       "      <td>Zamboanga del Sur Medical Center PCR Laboratory</td>\n",
       "      <td>2022-01-02</td>\n",
       "      <td>48.0</td>\n",
       "      <td>15.0</td>\n",
       "      <td>15.0</td>\n",
       "      <td>1.0</td>\n",
       "      <td>14.0</td>\n",
       "      <td>0.0</td>\n",
       "      <td>0.0</td>\n",
       "      <td>0.0</td>\n",
       "      <td>0.0</td>\n",
       "      <td>34136</td>\n",
       "      <td>33791</td>\n",
       "      <td>8833</td>\n",
       "      <td>24958</td>\n",
       "      <td>0.26</td>\n",
       "      <td>0.74</td>\n",
       "      <td>NaN</td>\n",
       "    </tr>\n",
       "    <tr>\n",
       "      <th>122583</th>\n",
       "      <td>Zamboanga del Sur Medical Center PCR Laboratory</td>\n",
       "      <td>2022-01-03</td>\n",
       "      <td>48.0</td>\n",
       "      <td>0.0</td>\n",
       "      <td>0.0</td>\n",
       "      <td>0.0</td>\n",
       "      <td>0.0</td>\n",
       "      <td>0.0</td>\n",
       "      <td>0.0</td>\n",
       "      <td>7570.0</td>\n",
       "      <td>0.0</td>\n",
       "      <td>34136</td>\n",
       "      <td>33791</td>\n",
       "      <td>8833</td>\n",
       "      <td>24958</td>\n",
       "      <td>0.26</td>\n",
       "      <td>0.74</td>\n",
       "      <td>NaN</td>\n",
       "    </tr>\n",
       "    <tr>\n",
       "      <th>122584</th>\n",
       "      <td>Zamboanga del Sur Medical Center PCR Laboratory</td>\n",
       "      <td>2022-01-04</td>\n",
       "      <td>48.0</td>\n",
       "      <td>43.0</td>\n",
       "      <td>43.0</td>\n",
       "      <td>3.0</td>\n",
       "      <td>40.0</td>\n",
       "      <td>0.0</td>\n",
       "      <td>0.0</td>\n",
       "      <td>7507.0</td>\n",
       "      <td>0.0</td>\n",
       "      <td>34179</td>\n",
       "      <td>33834</td>\n",
       "      <td>8836</td>\n",
       "      <td>24998</td>\n",
       "      <td>0.26</td>\n",
       "      <td>0.74</td>\n",
       "      <td>NaN</td>\n",
       "    </tr>\n",
       "  </tbody>\n",
       "</table>\n",
       "<p>122585 rows × 18 columns</p>\n",
       "</div>"
      ],
      "text/plain": [
       "                                          facility_name report_date  \\\n",
       "0                                   A Star Laboratories  2020-12-08   \n",
       "1                                   A Star Laboratories  2020-12-09   \n",
       "2                                   A Star Laboratories  2020-12-10   \n",
       "3                                   A Star Laboratories  2020-12-11   \n",
       "4                                   A Star Laboratories  2020-12-12   \n",
       "...                                                 ...         ...   \n",
       "122580  Zamboanga del Sur Medical Center PCR Laboratory  2021-12-31   \n",
       "122581  Zamboanga del Sur Medical Center PCR Laboratory  2022-01-01   \n",
       "122582  Zamboanga del Sur Medical Center PCR Laboratory  2022-01-02   \n",
       "122583  Zamboanga del Sur Medical Center PCR Laboratory  2022-01-03   \n",
       "122584  Zamboanga del Sur Medical Center PCR Laboratory  2022-01-04   \n",
       "\n",
       "        avg_turnaround_time  daily_output_samples_tested  \\\n",
       "0                      24.0                         15.0   \n",
       "1                       NaN                          NaN   \n",
       "2                       NaN                          NaN   \n",
       "3                       NaN                          NaN   \n",
       "4                       NaN                          NaN   \n",
       "...                     ...                          ...   \n",
       "122580                 48.0                          6.0   \n",
       "122581                 48.0                         54.0   \n",
       "122582                 48.0                         15.0   \n",
       "122583                 48.0                          0.0   \n",
       "122584                 48.0                         43.0   \n",
       "\n",
       "        daily_output_unique_individuals  daily_output_positive_individuals  \\\n",
       "0                                  15.0                                1.0   \n",
       "1                                   NaN                                NaN   \n",
       "2                                   NaN                                NaN   \n",
       "3                                   NaN                                NaN   \n",
       "4                                   NaN                                NaN   \n",
       "...                                 ...                                ...   \n",
       "122580                              6.0                                0.0   \n",
       "122581                             54.0                                2.0   \n",
       "122582                             15.0                                1.0   \n",
       "122583                              0.0                                0.0   \n",
       "122584                             43.0                                3.0   \n",
       "\n",
       "        daily_output_negative_individuals  daily_output_equivocal  \\\n",
       "0                                    14.0                     0.0   \n",
       "1                                     NaN                     NaN   \n",
       "2                                     NaN                     NaN   \n",
       "3                                     NaN                     NaN   \n",
       "4                                     NaN                     NaN   \n",
       "...                                   ...                     ...   \n",
       "122580                                6.0                     0.0   \n",
       "122581                               52.0                     0.0   \n",
       "122582                               14.0                     0.0   \n",
       "122583                                0.0                     0.0   \n",
       "122584                               40.0                     0.0   \n",
       "\n",
       "        daily_output_invalid  remaining_available_tests  backlogs  \\\n",
       "0                        0.0                        8.0       0.0   \n",
       "1                        NaN                        NaN       NaN   \n",
       "2                        NaN                        NaN       NaN   \n",
       "3                        NaN                        NaN       NaN   \n",
       "4                        NaN                        NaN       NaN   \n",
       "...                      ...                        ...       ...   \n",
       "122580                   0.0                     7669.0       0.0   \n",
       "122581                   0.0                     7595.0       0.0   \n",
       "122582                   0.0                        0.0       0.0   \n",
       "122583                   0.0                     7570.0       0.0   \n",
       "122584                   0.0                     7507.0       0.0   \n",
       "\n",
       "        cumulative_samples_tested  cumulative_unique_individuals  \\\n",
       "0                              15                             15   \n",
       "1                              15                             15   \n",
       "2                              15                             15   \n",
       "3                              15                             15   \n",
       "4                              15                             15   \n",
       "...                           ...                            ...   \n",
       "122580                      34067                          33722   \n",
       "122581                      34121                          33776   \n",
       "122582                      34136                          33791   \n",
       "122583                      34136                          33791   \n",
       "122584                      34179                          33834   \n",
       "\n",
       "        cumulative_positive_individuals  cumulative_negative_individuals  \\\n",
       "0                                     1                               14   \n",
       "1                                     1                               14   \n",
       "2                                     1                               14   \n",
       "3                                     1                               14   \n",
       "4                                     1                               14   \n",
       "...                                 ...                              ...   \n",
       "122580                             8830                            24892   \n",
       "122581                             8832                            24944   \n",
       "122582                             8833                            24958   \n",
       "122583                             8833                            24958   \n",
       "122584                             8836                            24998   \n",
       "\n",
       "        pct_positive_cumulative  pct_negative_cumulative validation_status  \n",
       "0                          0.07                     0.93               NaN  \n",
       "1                          0.07                     0.93               NaN  \n",
       "2                          0.07                     0.93               NaN  \n",
       "3                          0.07                     0.93               NaN  \n",
       "4                          0.07                     0.93               NaN  \n",
       "...                         ...                      ...               ...  \n",
       "122580                     0.26                     0.74               NaN  \n",
       "122581                     0.26                     0.74               NaN  \n",
       "122582                     0.26                     0.74               NaN  \n",
       "122583                     0.26                     0.74               NaN  \n",
       "122584                     0.26                     0.74               NaN  \n",
       "\n",
       "[122585 rows x 18 columns]"
      ]
     },
     "execution_count": 18,
     "metadata": {},
     "output_type": "execute_result"
    }
   ],
   "source": [
    "df2= pd.read_csv(\"DOH COVID Data Drop_ 20220105 - 07 Testing Aggregates.csv\")\n",
    "df2"
   ]
  },
  {
   "cell_type": "markdown",
   "id": "f597c2b2",
   "metadata": {},
   "source": [
    "# Transform dates to datetime format"
   ]
  },
  {
   "cell_type": "code",
   "execution_count": 19,
   "id": "b854496f",
   "metadata": {},
   "outputs": [
    {
     "data": {
      "text/plain": [
       "facility_name                         object\n",
       "report_date                           object\n",
       "avg_turnaround_time                  float64\n",
       "daily_output_samples_tested          float64\n",
       "daily_output_unique_individuals      float64\n",
       "daily_output_positive_individuals    float64\n",
       "daily_output_negative_individuals    float64\n",
       "daily_output_equivocal               float64\n",
       "daily_output_invalid                 float64\n",
       "remaining_available_tests            float64\n",
       "backlogs                             float64\n",
       "cumulative_samples_tested              int64\n",
       "cumulative_unique_individuals          int64\n",
       "cumulative_positive_individuals        int64\n",
       "cumulative_negative_individuals        int64\n",
       "pct_positive_cumulative              float64\n",
       "pct_negative_cumulative              float64\n",
       "validation_status                     object\n",
       "dtype: object"
      ]
     },
     "execution_count": 19,
     "metadata": {},
     "output_type": "execute_result"
    }
   ],
   "source": [
    "df2.dtypes\n",
    "#Meant to check what type of data are we dealing about. Our concern here are the dates.\n",
    "#We need to convert them to datetime format from object format to allow us to analyze data through time."
   ]
  },
  {
   "cell_type": "code",
   "execution_count": 20,
   "id": "3af07ac8",
   "metadata": {},
   "outputs": [],
   "source": [
    "df2.report_date = pd.to_datetime(df2.report_date, format=\"%Y-%m-%d\", errors=\"coerce\")"
   ]
  },
  {
   "cell_type": "markdown",
   "id": "4a82a0b8",
   "metadata": {},
   "source": [
    "# Total number of people tested for Covid-19 daily\n",
    "\n",
    "Arranged from highest to lowest per day"
   ]
  },
  {
   "cell_type": "code",
   "execution_count": 21,
   "id": "b7781611",
   "metadata": {},
   "outputs": [
    {
     "data": {
      "text/plain": [
       "report_date\n",
       "2020-04-19    2317.0\n",
       "2020-04-03    2280.0\n",
       "2020-04-09    1989.0\n",
       "2020-04-14    1829.0\n",
       "2020-04-12    1710.0\n",
       "2020-04-06    1700.0\n",
       "2020-04-07    1685.0\n",
       "2020-04-11    1302.0\n",
       "2020-04-10    1244.0\n",
       "2020-04-05     344.0\n",
       "Name: daily_output_unique_individuals, dtype: float64"
      ]
     },
     "execution_count": 21,
     "metadata": {},
     "output_type": "execute_result"
    }
   ],
   "source": [
    "df2.resample('D', on='report_date').daily_output_unique_individuals.sum().sort_values(ascending=False).tail(10)"
   ]
  },
  {
   "cell_type": "markdown",
   "id": "828327cd",
   "metadata": {},
   "source": [
    "Interpretation: This only shows lowest 10 days of testing over the entire period covered by the data."
   ]
  },
  {
   "cell_type": "code",
   "execution_count": 52,
   "id": "cb2eb56d",
   "metadata": {},
   "outputs": [
    {
     "data": {
      "text/plain": [
       "Text(0, 0.5, 'Cases')"
      ]
     },
     "execution_count": 52,
     "metadata": {},
     "output_type": "execute_result"
    },
    {
     "data": {
      "image/png": "[encoded data removed]",
      "text/plain": [
       "<Figure size 432x288 with 1 Axes>"
      ]
     },
     "metadata": {
      "needs_background": "light"
     },
     "output_type": "display_data"
    }
   ],
   "source": [
    "ax= df2.resample('D', on='report_date').daily_output_unique_individuals.sum().plot(title=\"No. of people tested for Covid-19\")\n",
    "ax.set_ylabel(\"Cases\")\n"
   ]
  },
  {
   "cell_type": "markdown",
   "id": "148257e0",
   "metadata": {},
   "source": [
    "Interpretation: Number of people getting tested for Covid-19 daily have gone down\n",
    "from their September peak of about 80,000 during a surge. "
   ]
  },
  {
   "cell_type": "markdown",
   "id": "fb1e186d",
   "metadata": {},
   "source": [
    "# Two-week rolling average in testing"
   ]
  },
  {
   "cell_type": "code",
   "execution_count": 28,
   "id": "a58d92a7",
   "metadata": {},
   "outputs": [
    {
     "data": {
      "text/plain": [
       "report_date\n",
       "2021-12-16    33579.0\n",
       "2021-12-17    33048.0\n",
       "2021-12-18    32622.0\n",
       "2021-12-19    32546.0\n",
       "2021-12-20    32577.0\n",
       "2021-12-21    32518.0\n",
       "2021-12-22    32012.0\n",
       "2021-12-23    31394.0\n",
       "2021-12-24    30244.0\n",
       "2021-12-25    28633.0\n",
       "2021-12-26    28257.0\n",
       "2021-12-27    28066.0\n",
       "2021-12-28    27631.0\n",
       "2021-12-29    27383.0\n",
       "2021-12-30    26894.0\n",
       "2021-12-31    26751.0\n",
       "2022-01-01    26133.0\n",
       "2022-01-02    26306.0\n",
       "2022-01-03    27349.0\n",
       "2022-01-04    28721.0\n",
       "Freq: D, Name: daily_output_unique_individuals, dtype: float64"
      ]
     },
     "execution_count": 28,
     "metadata": {},
     "output_type": "execute_result"
    }
   ],
   "source": [
    "df2.resample('D', on='report_date').daily_output_unique_individuals.sum().rolling(14).mean().round().tail(20)"
   ]
  },
  {
   "cell_type": "code",
   "execution_count": 29,
   "id": "dae4529d",
   "metadata": {},
   "outputs": [
    {
     "data": {
      "text/plain": [
       "<AxesSubplot:title={'center':'Two week rolling average in testing'}, xlabel='report_date'>"
      ]
     },
     "execution_count": 29,
     "metadata": {},
     "output_type": "execute_result"
    },
    {
     "data": {
      "image/png": "[encoded data removed]",
      "text/plain": [
       "<Figure size 432x288 with 1 Axes>"
      ]
     },
     "metadata": {
      "needs_background": "light"
     },
     "output_type": "display_data"
    }
   ],
   "source": [
    "df2.resample('D', on='report_date').daily_output_unique_individuals.sum().rolling(14).mean().plot(title='Two week rolling average in testing')"
   ]
  },
  {
   "cell_type": "markdown",
   "id": "ff718b37",
   "metadata": {},
   "source": [
    "# How many people are tested each month?"
   ]
  },
  {
   "cell_type": "markdown",
   "id": "3b112765",
   "metadata": {},
   "source": [
    "### Monthly totals arranged from highest to lowest\n",
    "\n",
    "Remove **sort_values(ascending=False)** to arrange it by date."
   ]
  },
  {
   "cell_type": "code",
   "execution_count": 30,
   "id": "3533d6fa",
   "metadata": {},
   "outputs": [
    {
     "data": {
      "text/plain": [
       "report_date\n",
       "2021-09-30    2270631.0\n",
       "2021-08-31    1876508.0\n",
       "2021-10-31    1674413.0\n",
       "2021-04-30    1571579.0\n",
       "2021-07-31    1534758.0\n",
       "2021-05-31    1525652.0\n",
       "2021-06-30    1511158.0\n",
       "2021-03-31    1378549.0\n",
       "2021-11-30    1160857.0\n",
       "2020-09-30    1073189.0\n",
       "2020-10-31    1027587.0\n",
       "2020-08-31    1017208.0\n",
       "2021-01-31    1013076.0\n",
       "2021-12-31     943211.0\n",
       "2020-12-31     929690.0\n",
       "2021-02-28     906997.0\n",
       "2020-11-30     894039.0\n",
       "2020-07-31     768793.0\n",
       "2020-06-30     360407.0\n",
       "2020-05-31     232175.0\n",
       "2022-01-31     143229.0\n",
       "2020-04-30      81089.0\n",
       "Name: daily_output_unique_individuals, dtype: float64"
      ]
     },
     "execution_count": 30,
     "metadata": {},
     "output_type": "execute_result"
    }
   ],
   "source": [
    "df2.resample('M', on='report_date').daily_output_unique_individuals.sum().sort_values(ascending=False)"
   ]
  },
  {
   "cell_type": "code",
   "execution_count": 31,
   "id": "a81eb58a",
   "metadata": {},
   "outputs": [
    {
     "data": {
      "text/plain": [
       "<AxesSubplot:title={'center':'Testing slumps below 100k in Dec 2021'}, xlabel='report_date'>"
      ]
     },
     "execution_count": 31,
     "metadata": {},
     "output_type": "execute_result"
    },
    {
     "data": {
      "image/png": "[encoded data removed]",
      "text/plain": [
       "<Figure size 432x288 with 1 Axes>"
      ]
     },
     "metadata": {
      "needs_background": "light"
     },
     "output_type": "display_data"
    }
   ],
   "source": [
    "df2.resample('M', on='report_date').daily_output_unique_individuals.sum().plot(kind=\"bar\", title=\"Testing slumps below 100k in Dec 2021\")\n"
   ]
  },
  {
   "cell_type": "markdown",
   "id": "5c597431",
   "metadata": {},
   "source": [
    "# Where do most positive individuals get tested?\n",
    "\n",
    "Top 25"
   ]
  },
  {
   "cell_type": "markdown",
   "id": "ca236981",
   "metadata": {},
   "source": [
    "### Cumulative"
   ]
  },
  {
   "cell_type": "code",
   "execution_count": 33,
   "id": "4c961eb4",
   "metadata": {},
   "outputs": [
    {
     "data": {
      "text/plain": [
       "facility_name\n",
       "Philippine Red Cross - Port Area                                          152726.0\n",
       "Detoxicare Molecular Diagnostics Laboratory                               147668.0\n",
       "Philippine Red Cross (PRC)                                                 91577.0\n",
       "Research Institute for Tropical Medicine (RITM)                            74899.0\n",
       "Baguio General Hospital and Medical Center                                 69933.0\n",
       "Philippine Red Cross Logistics & Multipurpose Center                       68160.0\n",
       "Jose B. Lingad Memorial General Hospital                                   63519.0\n",
       "Chinese General Hospital                                                   59148.0\n",
       "Cebu TB Reference Laboratory - Molecular Facility for COVID-19 Testing     58070.0\n",
       "Cagayan Valley Medical Center Molecular Laboratory                         54041.0\n",
       "Southern Philippines Medical Center (SPMC)                                 51476.0\n",
       "Ilocos Training and Regional Medical Center                                49889.0\n",
       "Northern Mindanao TB Regional Center                                       44348.0\n",
       "Philippine Red Cross Clark Molecular Laboratory                            43891.0\n",
       "Western Visayas Medical Center (WVMC)                                      39481.0\n",
       "Philippine Airport Diagnostic Laboratory                                   37884.0\n",
       "New World Diagnostic Premium Medical Branch                                36682.0\n",
       "De La Salle Medical and Health Sciences Institute                          36409.0\n",
       "Eastern Visayas Regional Covid Testing Center                              36322.0\n",
       "Bicol Regional Diagnostic and Reference Laboratory (BRDRL)                 34017.0\n",
       "The Lord's Grace Medical and Industrial Clinic                             33650.0\n",
       "Marilao Medical and Diagnostic Clinc, Inc.                                 33269.0\n",
       "Safeguard DNA Diagnostics, Inc                                             33174.0\n",
       "Vicente Sotto Memorial Medical Center (VSMMC)                              33127.0\n",
       "Cotabato Regional and Medical Center RT PCR                                32719.0\n",
       "Name: daily_output_positive_individuals, dtype: float64"
      ]
     },
     "execution_count": 33,
     "metadata": {},
     "output_type": "execute_result"
    }
   ],
   "source": [
    "df2.groupby(\"facility_name\").daily_output_positive_individuals.sum().sort_values(ascending=False).head(25)"
   ]
  },
  {
   "cell_type": "markdown",
   "id": "ce63048f",
   "metadata": {},
   "source": [
    "### Monthly\n",
    "\n",
    "Ranked from highest to lowest number of tests."
   ]
  },
  {
   "cell_type": "code",
   "execution_count": 34,
   "id": "b5489799",
   "metadata": {},
   "outputs": [
    {
     "data": {
      "text/plain": [
       "facility_name                                                           report_date\n",
       "Philippine Red Cross - Port Area                                        2021-09-30     27547.0\n",
       "                                                                        2021-08-31     23943.0\n",
       "Detoxicare Molecular Diagnostics Laboratory                             2021-09-30     21316.0\n",
       "Philippine Red Cross - Port Area                                        2021-04-30     20038.0\n",
       "Detoxicare Molecular Diagnostics Laboratory                             2021-04-30     18665.0\n",
       "Philippine Red Cross (PRC)                                              2021-09-30     18480.0\n",
       "Ilocos Training and Regional Medical Center                             2021-09-30     17270.0\n",
       "Baguio General Hospital and Medical Center                              2021-09-30     15865.0\n",
       "Philippine Red Cross - Port Area                                        2021-03-31     15852.0\n",
       "Detoxicare Molecular Diagnostics Laboratory                             2020-08-31     15315.0\n",
       "                                                                        2020-07-31     13384.0\n",
       "                                                                        2021-08-31     13139.0\n",
       "Cagayan Valley Medical Center Molecular Laboratory                      2021-09-30     12493.0\n",
       "Philippine Red Cross (PRC)                                              2021-04-30     12449.0\n",
       "Cebu TB Reference Laboratory - Molecular Facility for COVID-19 Testing  2021-08-31     12100.0\n",
       "Detoxicare Molecular Diagnostics Laboratory                             2021-03-31     11624.0\n",
       "Northern Mindanao TB Regional Center                                    2021-08-31     11283.0\n",
       "Philippine Red Cross (PRC)                                              2021-08-31     11119.0\n",
       "Philippine Red Cross Clark Molecular Laboratory                         2021-09-30     10761.0\n",
       "Philippine Red Cross - Port Area                                        2020-08-31     10269.0\n",
       "Philippine Red Cross Logistics & Multipurpose Center                    2021-03-31     10255.0\n",
       "Jose B. Lingad Memorial General Hospital                                2021-09-30     10179.0\n",
       "                                                                        2021-08-31     10154.0\n",
       "Research Institute for Tropical Medicine (RITM)                         2020-08-31     10021.0\n",
       "Detoxicare Molecular Diagnostics Laboratory                             2020-09-30      9594.0\n",
       "Name: daily_output_positive_individuals, dtype: float64"
      ]
     },
     "execution_count": 34,
     "metadata": {},
     "output_type": "execute_result"
    }
   ],
   "source": [
    "df2.groupby(\"facility_name\").resample('M', on='report_date').daily_output_positive_individuals.sum().sort_values(ascending=False).head(25)"
   ]
  },
  {
   "cell_type": "markdown",
   "id": "910df7b0",
   "metadata": {},
   "source": [
    "### Per testing site\n",
    "\n",
    "Just change the name of the testing site after **df2.facility_name** to check other facilities.\n",
    "Data show total monthly tests conducted per each facility."
   ]
  },
  {
   "cell_type": "code",
   "execution_count": 35,
   "id": "75211bbb",
   "metadata": {},
   "outputs": [
    {
     "data": {
      "text/plain": [
       "report_date\n",
       "2020-05-31      205.0\n",
       "2020-06-30      482.0\n",
       "2020-07-31     7488.0\n",
       "2020-08-31    10269.0\n",
       "2020-09-30     8200.0\n",
       "2020-10-31     1880.0\n",
       "2020-11-30     2090.0\n",
       "2020-12-31     2090.0\n",
       "2021-01-31     1585.0\n",
       "2021-02-28     3189.0\n",
       "2021-03-31    15852.0\n",
       "2021-04-30    20038.0\n",
       "2021-05-31     8407.0\n",
       "2021-06-30     4583.0\n",
       "2021-07-31     5584.0\n",
       "2021-08-31    23943.0\n",
       "2021-09-30    27547.0\n",
       "2021-10-31     4570.0\n",
       "2021-11-30     1031.0\n",
       "2021-12-31     1158.0\n",
       "2022-01-31     2535.0\n",
       "Freq: M, Name: daily_output_positive_individuals, dtype: float64"
      ]
     },
     "execution_count": 35,
     "metadata": {},
     "output_type": "execute_result"
    }
   ],
   "source": [
    "df2[df2.facility_name==\"Philippine Red Cross - Port Area\"].resample('M', on='report_date').daily_output_positive_individuals.sum()"
   ]
  },
  {
   "cell_type": "markdown",
   "id": "23dddea3",
   "metadata": {},
   "source": [
    "# How many individuals test positive every day?"
   ]
  },
  {
   "cell_type": "code",
   "execution_count": 23,
   "id": "931ebfcb",
   "metadata": {},
   "outputs": [
    {
     "data": {
      "text/plain": [
       "report_date\n",
       "2021-12-11      382.0\n",
       "2021-12-12      213.0\n",
       "2021-12-13      314.0\n",
       "2021-12-14      359.0\n",
       "2021-12-15      335.0\n",
       "2021-12-16      330.0\n",
       "2021-12-17      230.0\n",
       "2021-12-18      225.0\n",
       "2021-12-19      201.0\n",
       "2021-12-20      278.0\n",
       "2021-12-21      362.0\n",
       "2021-12-22      398.0\n",
       "2021-12-23      418.0\n",
       "2021-12-24      453.0\n",
       "2021-12-25      315.0\n",
       "2021-12-26      481.0\n",
       "2021-12-27     1271.0\n",
       "2021-12-28     2062.0\n",
       "2021-12-29     3155.0\n",
       "2021-12-30     4391.0\n",
       "2021-12-31     5475.0\n",
       "2022-01-01     4274.0\n",
       "2022-01-02     6927.0\n",
       "2022-01-03    14164.0\n",
       "2022-01-04    19250.0\n",
       "Freq: D, Name: daily_output_positive_individuals, dtype: float64"
      ]
     },
     "execution_count": 23,
     "metadata": {},
     "output_type": "execute_result"
    }
   ],
   "source": [
    "df2.resample('D', on='report_date').daily_output_positive_individuals.sum().tail(25)"
   ]
  },
  {
   "cell_type": "markdown",
   "id": "bbaf5a2a",
   "metadata": {},
   "source": [
    "# Turnaround time\n",
    "\n",
    "The number of people that test positive each day does not match cases reported each day. And it's partly because of delays in testing results. Hence some results reported today could be from tests days ago. What's the average turnaround time in hours for tests?"
   ]
  },
  {
   "cell_type": "code",
   "execution_count": 37,
   "id": "0ba1497e",
   "metadata": {},
   "outputs": [
    {
     "data": {
      "text/plain": [
       "48.0    36248\n",
       "24.0    30307\n",
       "72.0     7583\n",
       "Name: avg_turnaround_time, dtype: int64"
      ]
     },
     "execution_count": 37,
     "metadata": {},
     "output_type": "execute_result"
    }
   ],
   "source": [
    "df2.avg_turnaround_time.value_counts().head(3)"
   ]
  },
  {
   "cell_type": "markdown",
   "id": "3a0a4910",
   "metadata": {},
   "source": [
    "# Positivity rate\n",
    "\n",
    "Computed by dividing the number of positive tests out of the total tests conducted each day. The World Health Organization considers 5% and below positivity rate as the virus spread being under control."
   ]
  },
  {
   "cell_type": "markdown",
   "id": "b99fad14",
   "metadata": {},
   "source": [
    "### Daily"
   ]
  },
  {
   "cell_type": "code",
   "execution_count": 27,
   "id": "aea23cd4",
   "metadata": {},
   "outputs": [
    {
     "data": {
      "text/plain": [
       "report_date\n",
       "2020-04-03    22.192982\n",
       "2020-04-04    23.847113\n",
       "2020-04-05     1.162791\n",
       "2020-04-06    10.176471\n",
       "2020-04-07     6.706231\n",
       "2020-04-08     6.788079\n",
       "2020-04-09     9.653092\n",
       "2020-04-10    12.299035\n",
       "2020-04-11     9.677419\n",
       "2020-04-12    14.385965\n",
       "2020-04-13    17.972350\n",
       "2020-04-14     9.185347\n",
       "2020-04-15    16.533333\n",
       "2020-04-16     8.997135\n",
       "2020-04-17    10.727857\n",
       "2020-04-18     7.738584\n",
       "2020-04-19     8.847648\n",
       "2020-04-20     5.983642\n",
       "2020-04-21     8.641115\n",
       "2020-04-22    16.767956\n",
       "2020-04-23     6.655931\n",
       "2020-04-24     6.959443\n",
       "2020-04-25     9.123840\n",
       "2020-04-26     7.378741\n",
       "2020-04-27     6.571816\n",
       "2020-04-28     7.013983\n",
       "2020-04-29     3.925085\n",
       "2020-04-30     8.496460\n",
       "2020-05-01     7.151947\n",
       "2020-05-02     9.216590\n",
       "2020-05-03     6.975708\n",
       "2020-05-04     9.370425\n",
       "2020-05-05     7.353166\n",
       "2020-05-06     8.429044\n",
       "2020-05-07     6.165274\n",
       "2020-05-08     6.200289\n",
       "2020-05-09     6.788219\n",
       "2020-05-10     4.750485\n",
       "2020-05-11     5.543810\n",
       "2020-05-12     4.898966\n",
       "2020-05-13     4.677162\n",
       "2020-05-14     4.187806\n",
       "2020-05-15     3.950992\n",
       "2020-05-16     3.624868\n",
       "2020-05-17     3.771303\n",
       "2020-05-18     7.545421\n",
       "2020-05-19     6.173511\n",
       "2020-05-20     5.222155\n",
       "2020-05-21     4.752589\n",
       "2020-05-22     5.978442\n",
       "2020-05-23     6.540112\n",
       "2020-05-24     6.653089\n",
       "2020-05-25     9.131157\n",
       "2020-05-26     6.378601\n",
       "2020-05-27     5.982906\n",
       "2020-05-28     6.291070\n",
       "2020-05-29     5.427902\n",
       "2020-05-30     5.559105\n",
       "2020-05-31     4.379806\n",
       "2020-06-01     6.722125\n",
       "2020-06-02     4.476771\n",
       "2020-06-03     6.162152\n",
       "2020-06-04     5.152338\n",
       "2020-06-05     5.848733\n",
       "2020-06-06     5.539725\n",
       "2020-06-07     6.693737\n",
       "2020-06-08     6.513261\n",
       "2020-06-09     6.870593\n",
       "2020-06-10     6.214062\n",
       "2020-06-11     6.452575\n",
       "2020-06-12     6.364769\n",
       "2020-06-13     7.540194\n",
       "2020-06-14     5.059419\n",
       "2020-06-15     6.643757\n",
       "2020-06-16     6.720566\n",
       "2020-06-17     6.972477\n",
       "2020-06-18     5.699162\n",
       "2020-06-19     5.504587\n",
       "2020-06-20     7.292692\n",
       "2020-06-21     6.165062\n",
       "2020-06-22     7.859518\n",
       "2020-06-23     6.449677\n",
       "2020-06-24     7.149966\n",
       "2020-06-25     6.948220\n",
       "2020-06-26     8.181875\n",
       "2020-06-27     9.106109\n",
       "2020-06-28     9.308788\n",
       "2020-06-29     6.525083\n",
       "2020-06-30     9.574753\n",
       "2020-07-01     8.861381\n",
       "2020-07-02    10.206850\n",
       "2020-07-03     8.979809\n",
       "2020-07-04    10.230976\n",
       "2020-07-05    13.219023\n",
       "2020-07-06    10.276541\n",
       "2020-07-07     9.547919\n",
       "2020-07-08    11.382114\n",
       "2020-07-09    11.371251\n",
       "2020-07-10     9.661201\n",
       "2020-07-11    11.248630\n",
       "2020-07-12    12.410238\n",
       "2020-07-13    13.286032\n",
       "2020-07-14    12.850298\n",
       "2020-07-15    11.543986\n",
       "2020-07-16    11.024061\n",
       "2020-07-17    10.296794\n",
       "2020-07-18    11.237639\n",
       "2020-07-19    12.020946\n",
       "2020-07-20    13.153302\n",
       "2020-07-21    13.083145\n",
       "2020-07-22    12.179334\n",
       "2020-07-23    12.457310\n",
       "2020-07-24    10.620992\n",
       "2020-07-25    12.153189\n",
       "2020-07-26    11.263154\n",
       "2020-07-27    13.232068\n",
       "2020-07-28    14.441640\n",
       "2020-07-29    13.490584\n",
       "2020-07-30    13.703354\n",
       "2020-07-31    14.284378\n",
       "2020-08-01    12.746001\n",
       "2020-08-02    11.543012\n",
       "2020-08-03    12.180325\n",
       "2020-08-04    13.563357\n",
       "2020-08-05    11.506830\n",
       "2020-08-06    11.697817\n",
       "2020-08-07    13.266143\n",
       "2020-08-08    12.168675\n",
       "2020-08-09    12.538226\n",
       "2020-08-10    12.529131\n",
       "2020-08-11    13.401909\n",
       "2020-08-12    13.927151\n",
       "2020-08-13    12.864197\n",
       "2020-08-14    13.041937\n",
       "2020-08-15    13.061996\n",
       "2020-08-16    13.728039\n",
       "2020-08-17    11.920635\n",
       "2020-08-18    11.892490\n",
       "2020-08-19    12.017915\n",
       "2020-08-20    12.026569\n",
       "2020-08-21    11.429018\n",
       "2020-08-22    10.414250\n",
       "2020-08-23    12.816491\n",
       "2020-08-24    12.372875\n",
       "2020-08-25    11.659193\n",
       "2020-08-26    11.372055\n",
       "2020-08-27    11.279495\n",
       "2020-08-28    11.466350\n",
       "2020-08-29    12.521118\n",
       "2020-08-30    10.939220\n",
       "2020-08-31    11.095717\n",
       "2020-09-01     9.511007\n",
       "2020-09-02    10.598708\n",
       "2020-09-03    10.092460\n",
       "2020-09-04    10.168229\n",
       "2020-09-05     9.979887\n",
       "2020-09-06    11.401693\n",
       "2020-09-07     9.828568\n",
       "2020-09-08     8.446034\n",
       "2020-09-09    11.214953\n",
       "2020-09-10     9.635191\n",
       "2020-09-11    10.023424\n",
       "2020-09-12    10.256838\n",
       "2020-09-13     9.304489\n",
       "2020-09-14     9.476853\n",
       "2020-09-15     8.640000\n",
       "2020-09-16     9.363537\n",
       "2020-09-17     9.677419\n",
       "2020-09-18     9.231251\n",
       "2020-09-19     8.913446\n",
       "2020-09-20     8.098988\n",
       "2020-09-21     7.775510\n",
       "2020-09-22     8.039534\n",
       "2020-09-23     8.645556\n",
       "2020-09-24     8.983718\n",
       "2020-09-25     8.591084\n",
       "2020-09-26     8.560058\n",
       "2020-09-27     7.820930\n",
       "2020-09-28     8.331750\n",
       "2020-09-29     8.165452\n",
       "2020-09-30     7.755745\n",
       "2020-10-01     8.517836\n",
       "2020-10-02     7.937553\n",
       "2020-10-03     8.188113\n",
       "2020-10-04     8.189959\n",
       "2020-10-05     8.524678\n",
       "2020-10-06     8.297183\n",
       "2020-10-07     8.136868\n",
       "2020-10-08     7.453929\n",
       "2020-10-09     7.463999\n",
       "2020-10-10     7.208372\n",
       "2020-10-11     6.271153\n",
       "2020-10-12     7.327900\n",
       "2020-10-13     6.771285\n",
       "2020-10-14     6.633569\n",
       "2020-10-15     7.029254\n",
       "2020-10-16     7.369130\n",
       "2020-10-17     7.676867\n",
       "2020-10-18     7.119119\n",
       "2020-10-19     6.971163\n",
       "2020-10-20     6.804208\n",
       "2020-10-21     7.474038\n",
       "2020-10-22     7.067918\n",
       "2020-10-23     6.867301\n",
       "2020-10-24     6.293195\n",
       "2020-10-25     8.216139\n",
       "2020-10-26     6.975039\n",
       "2020-10-27     6.285872\n",
       "2020-10-28     6.308384\n",
       "2020-10-29     7.062718\n",
       "2020-10-30     7.335671\n",
       "2020-10-31     6.208248\n",
       "2020-11-01     6.251656\n",
       "2020-11-02     6.644248\n",
       "2020-11-03     6.643341\n",
       "2020-11-04     7.458704\n",
       "2020-11-05     6.437899\n",
       "2020-11-06     6.697906\n",
       "2020-11-07     6.241462\n",
       "2020-11-08     6.054986\n",
       "2020-11-09     5.933037\n",
       "2020-11-10     5.864631\n",
       "2020-11-11     5.905479\n",
       "2020-11-12     6.291243\n",
       "2020-11-13     5.743057\n",
       "2020-11-14     6.095912\n",
       "2020-11-15     5.634560\n",
       "2020-11-16     5.740005\n",
       "2020-11-17     4.955067\n",
       "2020-11-18     5.564962\n",
       "2020-11-19     5.234037\n",
       "2020-11-20     5.561116\n",
       "2020-11-21     5.338389\n",
       "2020-11-22     4.877843\n",
       "2020-11-23     4.844629\n",
       "2020-11-24     4.874027\n",
       "2020-11-25     4.985061\n",
       "2020-11-26     5.047543\n",
       "2020-11-27     5.194906\n",
       "2020-11-28     5.532863\n",
       "2020-11-29     5.390157\n",
       "2020-11-30     5.142760\n",
       "2020-12-01     4.478327\n",
       "2020-12-02     4.846649\n",
       "2020-12-03     4.532814\n",
       "2020-12-04     5.055226\n",
       "2020-12-05     4.676397\n",
       "2020-12-06     4.492086\n",
       "2020-12-07     4.607373\n",
       "2020-12-08     4.471236\n",
       "2020-12-09     5.384834\n",
       "2020-12-10     5.346773\n",
       "2020-12-11     4.857447\n",
       "2020-12-12     4.253851\n",
       "2020-12-13     4.432077\n",
       "2020-12-14     4.122719\n",
       "2020-12-15     5.374434\n",
       "2020-12-16     5.754600\n",
       "2020-12-17     4.524148\n",
       "2020-12-18     5.070157\n",
       "2020-12-19     5.622502\n",
       "2020-12-20     4.885352\n",
       "2020-12-21     4.498310\n",
       "2020-12-22     4.948430\n",
       "2020-12-23     5.457013\n",
       "2020-12-24     4.852969\n",
       "2020-12-25     5.412335\n",
       "2020-12-26     5.692803\n",
       "2020-12-27     5.287512\n",
       "2020-12-28     5.339428\n",
       "2020-12-29     6.188111\n",
       "2020-12-30     5.736460\n",
       "2020-12-31     6.209936\n",
       "2021-01-01     6.046968\n",
       "2021-01-02     6.774697\n",
       "2021-01-03     6.014102\n",
       "2021-01-04     5.399358\n",
       "2021-01-05     5.767629\n",
       "2021-01-06     5.161219\n",
       "2021-01-07     5.420379\n",
       "2021-01-08     5.197212\n",
       "2021-01-09     6.009011\n",
       "2021-01-10     5.193975\n",
       "2021-01-11     5.663655\n",
       "2021-01-12     5.523200\n",
       "2021-01-13     5.614776\n",
       "2021-01-14     5.371196\n",
       "2021-01-15     5.936098\n",
       "2021-01-16     5.724940\n",
       "2021-01-17     5.602637\n",
       "2021-01-18     5.957684\n",
       "2021-01-19     6.183070\n",
       "2021-01-20     6.237469\n",
       "2021-01-21     5.385694\n",
       "2021-01-22     5.494708\n",
       "2021-01-23     4.956721\n",
       "2021-01-24     5.675124\n",
       "2021-01-25     4.888858\n",
       "2021-01-26     5.311597\n",
       "2021-01-27     5.481834\n",
       "2021-01-28     5.639002\n",
       "2021-01-29     5.190004\n",
       "2021-01-30     5.604640\n",
       "2021-01-31     4.921598\n",
       "2021-02-01     6.055450\n",
       "2021-02-02     5.613205\n",
       "2021-02-03     5.750877\n",
       "2021-02-04     5.453391\n",
       "2021-02-05     5.688655\n",
       "2021-02-06     5.235602\n",
       "2021-02-07     5.712391\n",
       "2021-02-08     5.255768\n",
       "2021-02-09     6.231038\n",
       "2021-02-10     5.544933\n",
       "2021-02-11     5.265196\n",
       "2021-02-12     5.622296\n",
       "2021-02-13     6.578856\n",
       "2021-02-14     6.431305\n",
       "2021-02-15     5.074563\n",
       "2021-02-16     5.800997\n",
       "2021-02-17     6.073158\n",
       "2021-02-18     6.062909\n",
       "2021-02-19     6.623320\n",
       "2021-02-20     6.194933\n",
       "2021-02-21     6.481744\n",
       "2021-02-22     6.199163\n",
       "2021-02-23     7.177755\n",
       "2021-02-24     6.420487\n",
       "2021-02-25     6.934161\n",
       "2021-02-26     7.558046\n",
       "2021-02-27     6.899379\n",
       "2021-02-28     7.290510\n",
       "2021-03-01     7.322529\n",
       "2021-03-02     7.657968\n",
       "2021-03-03     9.112939\n",
       "2021-03-04     8.713517\n",
       "2021-03-05     8.541141\n",
       "2021-03-06     9.384550\n",
       "2021-03-07     8.936908\n",
       "2021-03-08     9.011047\n",
       "2021-03-09    10.309027\n",
       "2021-03-10    11.258049\n",
       "2021-03-11    11.129161\n",
       "2021-03-12    11.768995\n",
       "2021-03-13    12.668142\n",
       "2021-03-14    12.248618\n",
       "2021-03-15    12.184068\n",
       "2021-03-16    13.719067\n",
       "2021-03-17    14.247680\n",
       "2021-03-18    15.297938\n",
       "2021-03-19    15.594286\n",
       "2021-03-20    15.761693\n",
       "2021-03-21    15.419070\n",
       "2021-03-22    15.564809\n",
       "2021-03-23    16.407471\n",
       "2021-03-24    18.703264\n",
       "2021-03-25    19.916952\n",
       "2021-03-26    18.913300\n",
       "2021-03-27    19.994034\n",
       "2021-03-28    19.303495\n",
       "2021-03-29    20.795756\n",
       "2021-03-30    20.534978\n",
       "2021-03-31    21.237839\n",
       "2021-04-01    22.791074\n",
       "2021-04-02    25.127306\n",
       "2021-04-03    22.432623\n",
       "2021-04-04    21.360198\n",
       "2021-04-05    20.015935\n",
       "2021-04-06    20.072773\n",
       "2021-04-07    20.157124\n",
       "2021-04-08    21.122708\n",
       "2021-04-09    20.625630\n",
       "2021-04-10    21.677242\n",
       "2021-04-11    18.522137\n",
       "2021-04-12    19.054476\n",
       "2021-04-13    19.284507\n",
       "2021-04-14    18.831682\n",
       "2021-04-15    17.455916\n",
       "2021-04-16    18.682937\n",
       "2021-04-17    17.462494\n",
       "2021-04-18    15.700438\n",
       "2021-04-19    19.057144\n",
       "2021-04-20    17.149604\n",
       "2021-04-21    16.774576\n",
       "2021-04-22    16.712485\n",
       "2021-04-23    16.200790\n",
       "2021-04-24    16.035105\n",
       "2021-04-25    15.500963\n",
       "2021-04-26    17.734668\n",
       "2021-04-27    16.111121\n",
       "2021-04-28    16.404682\n",
       "2021-04-29    16.339824\n",
       "2021-04-30    16.062822\n",
       "2021-05-01    15.626911\n",
       "2021-05-02    14.585499\n",
       "2021-05-03    14.997335\n",
       "2021-05-04    14.302374\n",
       "2021-05-05    13.625964\n",
       "2021-05-06    13.856359\n",
       "2021-05-07    13.677138\n",
       "2021-05-08    13.272358\n",
       "2021-05-09    11.388945\n",
       "2021-05-10    12.153838\n",
       "2021-05-11    12.714097\n",
       "2021-05-12    12.990619\n",
       "2021-05-13    12.757107\n",
       "2021-05-14    12.667473\n",
       "2021-05-15    12.820659\n",
       "2021-05-16    12.646337\n",
       "2021-05-17    13.806596\n",
       "2021-05-18    12.799456\n",
       "2021-05-19    13.091015\n",
       "2021-05-20    12.888889\n",
       "2021-05-21    12.874432\n",
       "2021-05-22    12.701988\n",
       "2021-05-23    13.174958\n",
       "2021-05-24    13.230113\n",
       "2021-05-25    12.323705\n",
       "2021-05-26    12.893842\n",
       "2021-05-27    12.368269\n",
       "2021-05-28    12.786832\n",
       "2021-05-29    12.998980\n",
       "2021-05-30    11.352262\n",
       "2021-05-31    13.102428\n",
       "2021-06-01    13.517700\n",
       "2021-06-02    13.139849\n",
       "2021-06-03    12.968846\n",
       "2021-06-04    12.942252\n",
       "2021-06-05    13.007271\n",
       "2021-06-06    12.248290\n",
       "2021-06-07    12.493207\n",
       "2021-06-08    13.092752\n",
       "2021-06-09    12.945117\n",
       "2021-06-10    13.811525\n",
       "2021-06-11    12.111981\n",
       "2021-06-12    12.814296\n",
       "2021-06-13    12.785662\n",
       "2021-06-14    13.321017\n",
       "2021-06-15    12.126034\n",
       "2021-06-16    12.285844\n",
       "2021-06-17    11.821042\n",
       "2021-06-18    12.828905\n",
       "2021-06-19    12.497073\n",
       "2021-06-20    11.323845\n",
       "2021-06-21    11.354540\n",
       "2021-06-22    12.082515\n",
       "2021-06-23    11.798910\n",
       "2021-06-24    11.738001\n",
       "2021-06-25    11.693585\n",
       "2021-06-26    11.940179\n",
       "2021-06-27    10.529415\n",
       "2021-06-28    11.074451\n",
       "2021-06-29    11.803866\n",
       "2021-06-30    11.136516\n",
       "2021-07-01    10.407805\n",
       "2021-07-02    11.326700\n",
       "2021-07-03    11.434326\n",
       "2021-07-04    10.061305\n",
       "2021-07-05    11.127322\n",
       "2021-07-06    10.983135\n",
       "2021-07-07    10.625531\n",
       "2021-07-08    11.000650\n",
       "2021-07-09    10.912378\n",
       "2021-07-10    10.320003\n",
       "2021-07-11     9.691035\n",
       "2021-07-12    10.728105\n",
       "2021-07-13    10.277885\n",
       "2021-07-14    10.773176\n",
       "2021-07-15    10.856479\n",
       "2021-07-16    10.124730\n",
       "2021-07-17    10.915395\n",
       "2021-07-18    10.678844\n",
       "2021-07-19    11.756278\n",
       "2021-07-20    12.011019\n",
       "2021-07-21    12.218061\n",
       "2021-07-22    12.383776\n",
       "2021-07-23    12.687672\n",
       "2021-07-24    12.755161\n",
       "2021-07-25    12.344093\n",
       "2021-07-26    14.527134\n",
       "2021-07-27    15.632351\n",
       "2021-07-28    14.841274\n",
       "2021-07-29    14.731902\n",
       "2021-07-30    14.823487\n",
       "2021-07-31    15.208705\n",
       "2021-08-01    17.379214\n",
       "2021-08-02    16.582114\n",
       "2021-08-03    16.653749\n",
       "2021-08-04    17.938378\n",
       "2021-08-05    19.089929\n",
       "2021-08-06    19.809915\n",
       "2021-08-07    21.185788\n",
       "2021-08-08    20.806550\n",
       "2021-08-09    21.112676\n",
       "2021-08-10    22.372278\n",
       "2021-08-11    23.630438\n",
       "2021-08-12    24.928372\n",
       "2021-08-13    23.503411\n",
       "2021-08-14    23.227849\n",
       "2021-08-15    22.422783\n",
       "2021-08-16    23.188203\n",
       "2021-08-17    23.721401\n",
       "2021-08-18    25.842106\n",
       "2021-08-19    25.348553\n",
       "2021-08-20    25.283382\n",
       "2021-08-21    24.865489\n",
       "2021-08-22    24.930062\n",
       "2021-08-23    25.234205\n",
       "2021-08-24    24.865375\n",
       "2021-08-25    25.622038\n",
       "2021-08-26    27.805603\n",
       "2021-08-27    27.715268\n",
       "2021-08-28    26.968360\n",
       "2021-08-29    24.924914\n",
       "2021-08-30    26.134669\n",
       "2021-08-31    26.657301\n",
       "2021-09-01    27.136544\n",
       "2021-09-02    27.836438\n",
       "2021-09-03    27.471294\n",
       "2021-09-04    28.307798\n",
       "2021-09-05    27.781323\n",
       "2021-09-06    27.796048\n",
       "2021-09-07    29.515996\n",
       "2021-09-08    28.634053\n",
       "2021-09-09    27.588091\n",
       "2021-09-10    27.332413\n",
       "2021-09-11    26.885731\n",
       "2021-09-12    29.037149\n",
       "2021-09-13    26.550266\n",
       "2021-09-14    27.115641\n",
       "2021-09-15    26.557254\n",
       "2021-09-16    25.410307\n",
       "2021-09-17    25.182726\n",
       "2021-09-18    25.455464\n",
       "2021-09-19    26.043608\n",
       "2021-09-20    24.161892\n",
       "2021-09-21    23.864596\n",
       "2021-09-22    24.088019\n",
       "2021-09-23    22.933549\n",
       "2021-09-24    21.698102\n",
       "2021-09-25    22.851204\n",
       "2021-09-26    22.882967\n",
       "2021-09-27    22.642590\n",
       "2021-09-28    21.592510\n",
       "2021-09-29    21.316114\n",
       "2021-09-30    21.378502\n",
       "2021-10-01    19.317669\n",
       "2021-10-02    19.460002\n",
       "2021-10-03    18.454348\n",
       "2021-10-04    17.379206\n",
       "2021-10-05    17.408447\n",
       "2021-10-06    16.067607\n",
       "2021-10-07    15.693213\n",
       "2021-10-08    15.635747\n",
       "2021-10-09    15.633545\n",
       "2021-10-10    14.352492\n",
       "2021-10-11    13.675058\n",
       "2021-10-12    13.560356\n",
       "2021-10-13    13.754741\n",
       "2021-10-14    12.523557\n",
       "2021-10-15    12.830375\n",
       "2021-10-16    13.285310\n",
       "2021-10-17    12.051956\n",
       "2021-10-18    11.222297\n",
       "2021-10-19    10.718280\n",
       "2021-10-20    11.598986\n",
       "2021-10-21    10.438946\n",
       "2021-10-22    10.486944\n",
       "2021-10-23     8.871271\n",
       "2021-10-24     8.532623\n",
       "2021-10-25     7.601495\n",
       "2021-10-26     8.461975\n",
       "2021-10-27     8.368561\n",
       "2021-10-28     7.521192\n",
       "2021-10-29     7.302807\n",
       "2021-10-30     7.388339\n",
       "2021-10-31     6.749757\n",
       "2021-11-01     5.431280\n",
       "2021-11-02     6.473902\n",
       "2021-11-03     6.360950\n",
       "2021-11-04     5.544903\n",
       "2021-11-05     5.355826\n",
       "2021-11-06     5.322881\n",
       "2021-11-07     5.238228\n",
       "2021-11-08     4.280784\n",
       "2021-11-09     4.835504\n",
       "2021-11-10     5.416253\n",
       "2021-11-11     4.437938\n",
       "2021-11-12     3.911132\n",
       "2021-11-13     3.869764\n",
       "2021-11-14     3.108502\n",
       "2021-11-15     3.436039\n",
       "2021-11-16     3.354197\n",
       "2021-11-17     3.485677\n",
       "2021-11-18     3.172164\n",
       "2021-11-19     2.862665\n",
       "2021-11-20     2.769917\n",
       "2021-11-21     2.237773\n",
       "2021-11-22     2.474327\n",
       "2021-11-23     2.765461\n",
       "2021-11-24     2.478071\n",
       "2021-11-25     2.373054\n",
       "2021-11-26     2.394176\n",
       "2021-11-27     2.112087\n",
       "2021-11-28     2.063684\n",
       "2021-11-29     2.063759\n",
       "2021-11-30     1.691494\n",
       "2021-12-01     1.785172\n",
       "2021-12-02     1.795020\n",
       "2021-12-03     1.809045\n",
       "2021-12-04     1.582053\n",
       "2021-12-05     1.424813\n",
       "2021-12-06     1.594002\n",
       "2021-12-07     1.609407\n",
       "2021-12-08     1.293625\n",
       "2021-12-09     1.137319\n",
       "2021-12-10     1.243801\n",
       "2021-12-11     1.031485\n",
       "2021-12-12     0.880056\n",
       "2021-12-13     1.015918\n",
       "2021-12-14     0.963396\n",
       "2021-12-15     0.983530\n",
       "2021-12-16     0.901492\n",
       "2021-12-17     0.782739\n",
       "2021-12-18     0.772957\n",
       "2021-12-19     0.850146\n",
       "2021-12-20     0.925310\n",
       "2021-12-21     1.101576\n",
       "2021-12-22     1.360916\n",
       "2021-12-23     1.545344\n",
       "2021-12-24     2.058249\n",
       "2021-12-25     2.175414\n",
       "2021-12-26     2.540940\n",
       "2021-12-27     4.501505\n",
       "2021-12-28     6.615123\n",
       "2021-12-29    10.314165\n",
       "2021-12-30    14.751235\n",
       "2021-12-31    19.992697\n",
       "2022-01-01    20.890562\n",
       "2022-01-02    26.579947\n",
       "2022-01-03    31.727258\n",
       "2022-01-04    36.972304\n",
       "Freq: D, dtype: float64"
      ]
     },
     "execution_count": 27,
     "metadata": {},
     "output_type": "execute_result"
    }
   ],
   "source": [
    "df2.resample('D', on='report_date').daily_output_positive_individuals.sum() / df2.resample('D', on='report_date').daily_output_unique_individuals.sum() * 100\n"
   ]
  },
  {
   "cell_type": "markdown",
   "id": "25099bc0",
   "metadata": {},
   "source": [
    "# Save entire case file into one CSV\n",
    "\n",
    "Just remove the hashtag!\n",
    "\n",
    "While your testing data is in one CSV, cases are not. So now, you have the option to save it into one CSV. Note that you do not need to do this if you're using the dataframes (df) you generated above to process the data in Jupyter Notebook anytime."
   ]
  },
  {
   "cell_type": "code",
   "execution_count": null,
   "id": "3b8b4f09",
   "metadata": {},
   "outputs": [],
   "source": [
    "#df.to_csv(\"covidcases.csv\", index=False)"
   ]
  },
  {
   "cell_type": "code",
   "execution_count": 38,
   "id": "0807a758",
   "metadata": {},
   "outputs": [],
   "source": [
    "#pd.read_csv(\"covidcases.csv\")"
   ]
  }
 ],
 "metadata": {
  "kernelspec": {
   "display_name": "Python 3 (ipykernel)",
   "language": "python",
   "name": "python3"
  },
  "language_info": {
   "codemirror_mode": {
    "name": "ipython",
    "version": 3
   },
   "file_extension": ".py",
   "mimetype": "text/x-python",
   "name": "python",
   "nbconvert_exporter": "python",
   "pygments_lexer": "ipython3",
   "version": "3.10.0"
  }
 },
 "nbformat": 4,
 "nbformat_minor": 5
}
